{
 "cells": [
  {
   "cell_type": "markdown",
   "id": "78da08c5",
   "metadata": {},
   "source": [
    "# Preparation "
   ]
  },
  {
   "cell_type": "code",
   "execution_count": 1,
   "id": "e12382a3",
   "metadata": {},
   "outputs": [],
   "source": [
    "import pandas as pd\n",
    "import statsmodels.api as sm\n",
    "import numpy as np\n",
    "from statsmodels.tools.eval_measures import mse\n",
    "import warnings\n",
    "warnings.simplefilter(action='ignore', category=FutureWarning)"
   ]
  },
  {
   "cell_type": "code",
   "execution_count": 2,
   "id": "c9c2f035",
   "metadata": {},
   "outputs": [],
   "source": [
    "temp1 = pd.read_stata(\"Assignment_2(StockReturn).dta\")\n",
    "temp2 = pd.read_stata(\"Assignment_2(Factors).dta\")"
   ]
  },
  {
   "cell_type": "code",
   "execution_count": 59,
   "id": "88a6440a",
   "metadata": {
    "scrolled": true
   },
   "outputs": [
    {
     "data": {
      "text/html": [
       "<div>\n",
       "<style scoped>\n",
       "    .dataframe tbody tr th:only-of-type {\n",
       "        vertical-align: middle;\n",
       "    }\n",
       "\n",
       "    .dataframe tbody tr th {\n",
       "        vertical-align: top;\n",
       "    }\n",
       "\n",
       "    .dataframe thead th {\n",
       "        text-align: right;\n",
       "    }\n",
       "</style>\n",
       "<table border=\"1\" class=\"dataframe\">\n",
       "  <thead>\n",
       "    <tr style=\"text-align: right;\">\n",
       "      <th></th>\n",
       "      <th>permno</th>\n",
       "      <th>ticker</th>\n",
       "      <th>comnam</th>\n",
       "      <th>date</th>\n",
       "      <th>prc</th>\n",
       "      <th>vol</th>\n",
       "      <th>ret</th>\n",
       "      <th>shrout</th>\n",
       "      <th>marketcap</th>\n",
       "      <th>turnover</th>\n",
       "      <th>mktrf</th>\n",
       "      <th>smb</th>\n",
       "      <th>hml</th>\n",
       "      <th>rmw</th>\n",
       "      <th>cma</th>\n",
       "      <th>rf</th>\n",
       "    </tr>\n",
       "    <tr>\n",
       "      <th>ym</th>\n",
       "      <th></th>\n",
       "      <th></th>\n",
       "      <th></th>\n",
       "      <th></th>\n",
       "      <th></th>\n",
       "      <th></th>\n",
       "      <th></th>\n",
       "      <th></th>\n",
       "      <th></th>\n",
       "      <th></th>\n",
       "      <th></th>\n",
       "      <th></th>\n",
       "      <th></th>\n",
       "      <th></th>\n",
       "      <th></th>\n",
       "      <th></th>\n",
       "    </tr>\n",
       "  </thead>\n",
       "  <tbody>\n",
       "    <tr>\n",
       "      <th>2001-01-01</th>\n",
       "      <td>10107.0</td>\n",
       "      <td>MSFT</td>\n",
       "      <td>MICROSOFT CORP</td>\n",
       "      <td>2001-01-31</td>\n",
       "      <td>61.062500</td>\n",
       "      <td>10208871.0</td>\n",
       "      <td>0.407781</td>\n",
       "      <td>5335391.0</td>\n",
       "      <td>325792320.0</td>\n",
       "      <td>1.913425</td>\n",
       "      <td>0.0313</td>\n",
       "      <td>0.0545</td>\n",
       "      <td>-0.0511</td>\n",
       "      <td>-0.0546</td>\n",
       "      <td>-0.0505</td>\n",
       "      <td>0.0054</td>\n",
       "    </tr>\n",
       "    <tr>\n",
       "      <th>2001-01-01</th>\n",
       "      <td>11850.0</td>\n",
       "      <td>XOM</td>\n",
       "      <td>EXXON MOBIL CORP</td>\n",
       "      <td>2001-01-31</td>\n",
       "      <td>84.150002</td>\n",
       "      <td>1558784.0</td>\n",
       "      <td>-0.032063</td>\n",
       "      <td>3476189.0</td>\n",
       "      <td>292521312.0</td>\n",
       "      <td>0.448418</td>\n",
       "      <td>0.0313</td>\n",
       "      <td>0.0545</td>\n",
       "      <td>-0.0511</td>\n",
       "      <td>-0.0546</td>\n",
       "      <td>-0.0505</td>\n",
       "      <td>0.0054</td>\n",
       "    </tr>\n",
       "    <tr>\n",
       "      <th>2001-01-01</th>\n",
       "      <td>12490.0</td>\n",
       "      <td>IBM</td>\n",
       "      <td>INTERNATIONAL BUSINESS MACHS COR</td>\n",
       "      <td>2001-01-31</td>\n",
       "      <td>112.000000</td>\n",
       "      <td>1989212.0</td>\n",
       "      <td>0.317647</td>\n",
       "      <td>1754380.0</td>\n",
       "      <td>196490560.0</td>\n",
       "      <td>1.133855</td>\n",
       "      <td>0.0313</td>\n",
       "      <td>0.0545</td>\n",
       "      <td>-0.0511</td>\n",
       "      <td>-0.0546</td>\n",
       "      <td>-0.0505</td>\n",
       "      <td>0.0054</td>\n",
       "    </tr>\n",
       "    <tr>\n",
       "      <th>2001-01-01</th>\n",
       "      <td>14593.0</td>\n",
       "      <td>AAPL</td>\n",
       "      <td>APPLE COMPUTER INC</td>\n",
       "      <td>2001-01-31</td>\n",
       "      <td>21.625000</td>\n",
       "      <td>2482727.0</td>\n",
       "      <td>0.453782</td>\n",
       "      <td>346029.0</td>\n",
       "      <td>7482877.0</td>\n",
       "      <td>7.174910</td>\n",
       "      <td>0.0313</td>\n",
       "      <td>0.0545</td>\n",
       "      <td>-0.0511</td>\n",
       "      <td>-0.0546</td>\n",
       "      <td>-0.0505</td>\n",
       "      <td>0.0054</td>\n",
       "    </tr>\n",
       "    <tr>\n",
       "      <th>2001-01-01</th>\n",
       "      <td>55976.0</td>\n",
       "      <td>WMT</td>\n",
       "      <td>WAL MART STORES INC</td>\n",
       "      <td>2001-01-31</td>\n",
       "      <td>56.799999</td>\n",
       "      <td>1799279.0</td>\n",
       "      <td>0.069176</td>\n",
       "      <td>4466336.0</td>\n",
       "      <td>253687888.0</td>\n",
       "      <td>0.402853</td>\n",
       "      <td>0.0313</td>\n",
       "      <td>0.0545</td>\n",
       "      <td>-0.0511</td>\n",
       "      <td>-0.0546</td>\n",
       "      <td>-0.0505</td>\n",
       "      <td>0.0054</td>\n",
       "    </tr>\n",
       "  </tbody>\n",
       "</table>\n",
       "</div>"
      ],
      "text/plain": [
       "             permno ticker                            comnam       date  \\\n",
       "ym                                                                        \n",
       "2001-01-01  10107.0   MSFT                    MICROSOFT CORP 2001-01-31   \n",
       "2001-01-01  11850.0    XOM                  EXXON MOBIL CORP 2001-01-31   \n",
       "2001-01-01  12490.0    IBM  INTERNATIONAL BUSINESS MACHS COR 2001-01-31   \n",
       "2001-01-01  14593.0   AAPL                APPLE COMPUTER INC 2001-01-31   \n",
       "2001-01-01  55976.0    WMT               WAL MART STORES INC 2001-01-31   \n",
       "\n",
       "                   prc         vol       ret     shrout    marketcap  \\\n",
       "ym                                                                     \n",
       "2001-01-01   61.062500  10208871.0  0.407781  5335391.0  325792320.0   \n",
       "2001-01-01   84.150002   1558784.0 -0.032063  3476189.0  292521312.0   \n",
       "2001-01-01  112.000000   1989212.0  0.317647  1754380.0  196490560.0   \n",
       "2001-01-01   21.625000   2482727.0  0.453782   346029.0    7482877.0   \n",
       "2001-01-01   56.799999   1799279.0  0.069176  4466336.0  253687888.0   \n",
       "\n",
       "            turnover   mktrf     smb     hml     rmw     cma      rf  \n",
       "ym                                                                    \n",
       "2001-01-01  1.913425  0.0313  0.0545 -0.0511 -0.0546 -0.0505  0.0054  \n",
       "2001-01-01  0.448418  0.0313  0.0545 -0.0511 -0.0546 -0.0505  0.0054  \n",
       "2001-01-01  1.133855  0.0313  0.0545 -0.0511 -0.0546 -0.0505  0.0054  \n",
       "2001-01-01  7.174910  0.0313  0.0545 -0.0511 -0.0546 -0.0505  0.0054  \n",
       "2001-01-01  0.402853  0.0313  0.0545 -0.0511 -0.0546 -0.0505  0.0054  "
      ]
     },
     "execution_count": 59,
     "metadata": {},
     "output_type": "execute_result"
    }
   ],
   "source": [
    "df = temp1.set_index('ym').join(temp2.set_index('ym'))\n",
    "df.head()"
   ]
  },
  {
   "cell_type": "code",
   "execution_count": 4,
   "id": "18d199c0",
   "metadata": {},
   "outputs": [
    {
     "data": {
      "text/plain": [
       "False"
      ]
     },
     "execution_count": 4,
     "metadata": {},
     "output_type": "execute_result"
    }
   ],
   "source": [
    "# check if null exists\n",
    "df.isnull().values.any()"
   ]
  },
  {
   "cell_type": "markdown",
   "id": "040ecb83",
   "metadata": {},
   "source": [
    "# First Part: Seeking Alpha"
   ]
  },
  {
   "cell_type": "markdown",
   "id": "8cf32935",
   "metadata": {},
   "source": [
    "## IBM"
   ]
  },
  {
   "cell_type": "markdown",
   "id": "30db70d5",
   "metadata": {},
   "source": [
    "Times-series regression is implemented to IBM. The outcome of the regressions for the return on market premium factor, Fama-French 3 factors & 5 factors, and the Newey-West estimator  are as stated. Accordingly, the market premium factor plays a critical rule in all the models, while other factors are   insignificant in the two Fama-French models."
   ]
  },
  {
   "cell_type": "markdown",
   "id": "e0bbf45e",
   "metadata": {},
   "source": [
    "### Market premium factor"
   ]
  },
  {
   "cell_type": "code",
   "execution_count": 5,
   "id": "ff3c0224",
   "metadata": {
    "scrolled": true
   },
   "outputs": [],
   "source": [
    "df_IBM = df[df[\"ticker\"]==\"IBM\"]\n",
    "Y_IBM = df_IBM[\"ret\"]\n",
    "X_IBM = df_IBM[\"mktrf\"]\n",
    "X_IBM = sm.add_constant(X_IBM)\n",
    "model_IBM = sm.OLS(Y_IBM, X_IBM)\n",
    "results_IBM = model_IBM.fit(cov_type='HAC',cov_kwds={'maxlags':12})"
   ]
  },
  {
   "cell_type": "code",
   "execution_count": 6,
   "id": "2ddfb331",
   "metadata": {
    "scrolled": true
   },
   "outputs": [
    {
     "data": {
      "text/html": [
       "<table class=\"simpletable\">\n",
       "<caption>OLS Regression Results</caption>\n",
       "<tr>\n",
       "  <th>Dep. Variable:</th>           <td>ret</td>       <th>  R-squared:         </th> <td>   0.385</td>\n",
       "</tr>\n",
       "<tr>\n",
       "  <th>Model:</th>                   <td>OLS</td>       <th>  Adj. R-squared:    </th> <td>   0.383</td>\n",
       "</tr>\n",
       "<tr>\n",
       "  <th>Method:</th>             <td>Least Squares</td>  <th>  F-statistic:       </th> <td>   59.93</td>\n",
       "</tr>\n",
       "<tr>\n",
       "  <th>Date:</th>             <td>Sun, 05 Jun 2022</td> <th>  Prob (F-statistic):</th> <td>2.44e-13</td>\n",
       "</tr>\n",
       "<tr>\n",
       "  <th>Time:</th>                 <td>22:07:07</td>     <th>  Log-Likelihood:    </th> <td>  371.80</td>\n",
       "</tr>\n",
       "<tr>\n",
       "  <th>No. Observations:</th>      <td>   252</td>      <th>  AIC:               </th> <td>  -739.6</td>\n",
       "</tr>\n",
       "<tr>\n",
       "  <th>Df Residuals:</th>          <td>   250</td>      <th>  BIC:               </th> <td>  -732.5</td>\n",
       "</tr>\n",
       "<tr>\n",
       "  <th>Df Model:</th>              <td>     1</td>      <th>                     </th>     <td> </td>   \n",
       "</tr>\n",
       "<tr>\n",
       "  <th>Covariance Type:</th>         <td>HAC</td>       <th>                     </th>     <td> </td>   \n",
       "</tr>\n",
       "</table>\n",
       "<table class=\"simpletable\">\n",
       "<tr>\n",
       "    <td></td>       <th>coef</th>     <th>std err</th>      <th>z</th>      <th>P>|z|</th>  <th>[0.025</th>    <th>0.975]</th>  \n",
       "</tr>\n",
       "<tr>\n",
       "  <th>const</th> <td>   -0.0005</td> <td>    0.004</td> <td>   -0.133</td> <td> 0.894</td> <td>   -0.008</td> <td>    0.007</td>\n",
       "</tr>\n",
       "<tr>\n",
       "  <th>mktrf</th> <td>    0.9848</td> <td>    0.127</td> <td>    7.741</td> <td> 0.000</td> <td>    0.735</td> <td>    1.234</td>\n",
       "</tr>\n",
       "</table>\n",
       "<table class=\"simpletable\">\n",
       "<tr>\n",
       "  <th>Omnibus:</th>       <td>67.363</td> <th>  Durbin-Watson:     </th> <td>   1.977</td>\n",
       "</tr>\n",
       "<tr>\n",
       "  <th>Prob(Omnibus):</th> <td> 0.000</td> <th>  Jarque-Bera (JB):  </th> <td> 331.897</td>\n",
       "</tr>\n",
       "<tr>\n",
       "  <th>Skew:</th>          <td> 0.962</td> <th>  Prob(JB):          </th> <td>8.50e-73</td>\n",
       "</tr>\n",
       "<tr>\n",
       "  <th>Kurtosis:</th>      <td> 8.282</td> <th>  Cond. No.          </th> <td>    22.5</td>\n",
       "</tr>\n",
       "</table><br/><br/>Notes:<br/>[1] Standard Errors are heteroscedasticity and autocorrelation robust (HAC) using 12 lags and without small sample correction"
      ],
      "text/plain": [
       "<class 'statsmodels.iolib.summary.Summary'>\n",
       "\"\"\"\n",
       "                            OLS Regression Results                            \n",
       "==============================================================================\n",
       "Dep. Variable:                    ret   R-squared:                       0.385\n",
       "Model:                            OLS   Adj. R-squared:                  0.383\n",
       "Method:                 Least Squares   F-statistic:                     59.93\n",
       "Date:                Sun, 05 Jun 2022   Prob (F-statistic):           2.44e-13\n",
       "Time:                        22:07:07   Log-Likelihood:                 371.80\n",
       "No. Observations:                 252   AIC:                            -739.6\n",
       "Df Residuals:                     250   BIC:                            -732.5\n",
       "Df Model:                           1                                         \n",
       "Covariance Type:                  HAC                                         \n",
       "==============================================================================\n",
       "                 coef    std err          z      P>|z|      [0.025      0.975]\n",
       "------------------------------------------------------------------------------\n",
       "const         -0.0005      0.004     -0.133      0.894      -0.008       0.007\n",
       "mktrf          0.9848      0.127      7.741      0.000       0.735       1.234\n",
       "==============================================================================\n",
       "Omnibus:                       67.363   Durbin-Watson:                   1.977\n",
       "Prob(Omnibus):                  0.000   Jarque-Bera (JB):              331.897\n",
       "Skew:                           0.962   Prob(JB):                     8.50e-73\n",
       "Kurtosis:                       8.282   Cond. No.                         22.5\n",
       "==============================================================================\n",
       "\n",
       "Notes:\n",
       "[1] Standard Errors are heteroscedasticity and autocorrelation robust (HAC) using 12 lags and without small sample correction\n",
       "\"\"\""
      ]
     },
     "execution_count": 6,
     "metadata": {},
     "output_type": "execute_result"
    }
   ],
   "source": [
    "results_IBM.summary()"
   ]
  },
  {
   "cell_type": "markdown",
   "id": "8b9261b2",
   "metadata": {},
   "source": [
    "### Fama-French 3 factors"
   ]
  },
  {
   "cell_type": "code",
   "execution_count": 7,
   "id": "c232b515",
   "metadata": {},
   "outputs": [],
   "source": [
    "X_IBM_3 = df_IBM[[\"mktrf\", \"smb\", \"hml\"]]\n",
    "X_IBM_3 = sm.add_constant(X_IBM_3)\n",
    "model_IBM_3 = sm.OLS(Y_IBM, X_IBM_3)\n",
    "results_IBM_3 = model_IBM_3.fit(cov_type='HAC',cov_kwds={'maxlags':12})"
   ]
  },
  {
   "cell_type": "code",
   "execution_count": 8,
   "id": "e836c734",
   "metadata": {
    "scrolled": true
   },
   "outputs": [
    {
     "data": {
      "text/html": [
       "<table class=\"simpletable\">\n",
       "<caption>OLS Regression Results</caption>\n",
       "<tr>\n",
       "  <th>Dep. Variable:</th>           <td>ret</td>       <th>  R-squared:         </th> <td>   0.402</td>\n",
       "</tr>\n",
       "<tr>\n",
       "  <th>Model:</th>                   <td>OLS</td>       <th>  Adj. R-squared:    </th> <td>   0.395</td>\n",
       "</tr>\n",
       "<tr>\n",
       "  <th>Method:</th>             <td>Least Squares</td>  <th>  F-statistic:       </th> <td>   31.11</td>\n",
       "</tr>\n",
       "<tr>\n",
       "  <th>Date:</th>             <td>Sun, 05 Jun 2022</td> <th>  Prob (F-statistic):</th> <td>4.17e-17</td>\n",
       "</tr>\n",
       "<tr>\n",
       "  <th>Time:</th>                 <td>22:07:07</td>     <th>  Log-Likelihood:    </th> <td>  375.27</td>\n",
       "</tr>\n",
       "<tr>\n",
       "  <th>No. Observations:</th>      <td>   252</td>      <th>  AIC:               </th> <td>  -742.5</td>\n",
       "</tr>\n",
       "<tr>\n",
       "  <th>Df Residuals:</th>          <td>   248</td>      <th>  BIC:               </th> <td>  -728.4</td>\n",
       "</tr>\n",
       "<tr>\n",
       "  <th>Df Model:</th>              <td>     3</td>      <th>                     </th>     <td> </td>   \n",
       "</tr>\n",
       "<tr>\n",
       "  <th>Covariance Type:</th>         <td>HAC</td>       <th>                     </th>     <td> </td>   \n",
       "</tr>\n",
       "</table>\n",
       "<table class=\"simpletable\">\n",
       "<tr>\n",
       "    <td></td>       <th>coef</th>     <th>std err</th>      <th>z</th>      <th>P>|z|</th>  <th>[0.025</th>    <th>0.975]</th>  \n",
       "</tr>\n",
       "<tr>\n",
       "  <th>const</th> <td>   -0.0005</td> <td>    0.004</td> <td>   -0.152</td> <td> 0.879</td> <td>   -0.008</td> <td>    0.007</td>\n",
       "</tr>\n",
       "<tr>\n",
       "  <th>mktrf</th> <td>    1.0133</td> <td>    0.140</td> <td>    7.231</td> <td> 0.000</td> <td>    0.739</td> <td>    1.288</td>\n",
       "</tr>\n",
       "<tr>\n",
       "  <th>smb</th>   <td>   -0.0527</td> <td>    0.254</td> <td>   -0.208</td> <td> 0.835</td> <td>   -0.550</td> <td>    0.444</td>\n",
       "</tr>\n",
       "<tr>\n",
       "  <th>hml</th>   <td>   -0.2904</td> <td>    0.214</td> <td>   -1.357</td> <td> 0.175</td> <td>   -0.710</td> <td>    0.129</td>\n",
       "</tr>\n",
       "</table>\n",
       "<table class=\"simpletable\">\n",
       "<tr>\n",
       "  <th>Omnibus:</th>       <td>53.837</td> <th>  Durbin-Watson:     </th> <td>   1.935</td>\n",
       "</tr>\n",
       "<tr>\n",
       "  <th>Prob(Omnibus):</th> <td> 0.000</td> <th>  Jarque-Bera (JB):  </th> <td> 223.909</td>\n",
       "</tr>\n",
       "<tr>\n",
       "  <th>Skew:</th>          <td> 0.789</td> <th>  Prob(JB):          </th> <td>2.39e-49</td>\n",
       "</tr>\n",
       "<tr>\n",
       "  <th>Kurtosis:</th>      <td> 7.340</td> <th>  Cond. No.          </th> <td>    44.2</td>\n",
       "</tr>\n",
       "</table><br/><br/>Notes:<br/>[1] Standard Errors are heteroscedasticity and autocorrelation robust (HAC) using 12 lags and without small sample correction"
      ],
      "text/plain": [
       "<class 'statsmodels.iolib.summary.Summary'>\n",
       "\"\"\"\n",
       "                            OLS Regression Results                            \n",
       "==============================================================================\n",
       "Dep. Variable:                    ret   R-squared:                       0.402\n",
       "Model:                            OLS   Adj. R-squared:                  0.395\n",
       "Method:                 Least Squares   F-statistic:                     31.11\n",
       "Date:                Sun, 05 Jun 2022   Prob (F-statistic):           4.17e-17\n",
       "Time:                        22:07:07   Log-Likelihood:                 375.27\n",
       "No. Observations:                 252   AIC:                            -742.5\n",
       "Df Residuals:                     248   BIC:                            -728.4\n",
       "Df Model:                           3                                         \n",
       "Covariance Type:                  HAC                                         \n",
       "==============================================================================\n",
       "                 coef    std err          z      P>|z|      [0.025      0.975]\n",
       "------------------------------------------------------------------------------\n",
       "const         -0.0005      0.004     -0.152      0.879      -0.008       0.007\n",
       "mktrf          1.0133      0.140      7.231      0.000       0.739       1.288\n",
       "smb           -0.0527      0.254     -0.208      0.835      -0.550       0.444\n",
       "hml           -0.2904      0.214     -1.357      0.175      -0.710       0.129\n",
       "==============================================================================\n",
       "Omnibus:                       53.837   Durbin-Watson:                   1.935\n",
       "Prob(Omnibus):                  0.000   Jarque-Bera (JB):              223.909\n",
       "Skew:                           0.789   Prob(JB):                     2.39e-49\n",
       "Kurtosis:                       7.340   Cond. No.                         44.2\n",
       "==============================================================================\n",
       "\n",
       "Notes:\n",
       "[1] Standard Errors are heteroscedasticity and autocorrelation robust (HAC) using 12 lags and without small sample correction\n",
       "\"\"\""
      ]
     },
     "execution_count": 8,
     "metadata": {},
     "output_type": "execute_result"
    }
   ],
   "source": [
    "results_IBM_3.summary()"
   ]
  },
  {
   "cell_type": "markdown",
   "id": "f179e6e0",
   "metadata": {},
   "source": [
    "### Fama-French 5 factors"
   ]
  },
  {
   "cell_type": "code",
   "execution_count": 9,
   "id": "93ee5c20",
   "metadata": {
    "scrolled": true
   },
   "outputs": [],
   "source": [
    "X_IBM_5 = df_IBM[[\"mktrf\", \"smb\", \"hml\", \"rmw\", \"cma\"]]\n",
    "X_IBM_5 = sm.add_constant(X_IBM_5)\n",
    "model_IBM_5 = sm.OLS(Y_IBM, X_IBM_5)\n",
    "results_IBM_5 = model_IBM_5.fit(cov_type='HAC',cov_kwds={'maxlags':12})"
   ]
  },
  {
   "cell_type": "code",
   "execution_count": 10,
   "id": "8b825b57",
   "metadata": {
    "scrolled": true
   },
   "outputs": [
    {
     "data": {
      "text/html": [
       "<table class=\"simpletable\">\n",
       "<caption>OLS Regression Results</caption>\n",
       "<tr>\n",
       "  <th>Dep. Variable:</th>           <td>ret</td>       <th>  R-squared:         </th> <td>   0.413</td>\n",
       "</tr>\n",
       "<tr>\n",
       "  <th>Model:</th>                   <td>OLS</td>       <th>  Adj. R-squared:    </th> <td>   0.401</td>\n",
       "</tr>\n",
       "<tr>\n",
       "  <th>Method:</th>             <td>Least Squares</td>  <th>  F-statistic:       </th> <td>   18.92</td>\n",
       "</tr>\n",
       "<tr>\n",
       "  <th>Date:</th>             <td>Sun, 05 Jun 2022</td> <th>  Prob (F-statistic):</th> <td>6.51e-16</td>\n",
       "</tr>\n",
       "<tr>\n",
       "  <th>Time:</th>                 <td>22:07:07</td>     <th>  Log-Likelihood:    </th> <td>  377.73</td>\n",
       "</tr>\n",
       "<tr>\n",
       "  <th>No. Observations:</th>      <td>   252</td>      <th>  AIC:               </th> <td>  -743.5</td>\n",
       "</tr>\n",
       "<tr>\n",
       "  <th>Df Residuals:</th>          <td>   246</td>      <th>  BIC:               </th> <td>  -722.3</td>\n",
       "</tr>\n",
       "<tr>\n",
       "  <th>Df Model:</th>              <td>     5</td>      <th>                     </th>     <td> </td>   \n",
       "</tr>\n",
       "<tr>\n",
       "  <th>Covariance Type:</th>         <td>HAC</td>       <th>                     </th>     <td> </td>   \n",
       "</tr>\n",
       "</table>\n",
       "<table class=\"simpletable\">\n",
       "<tr>\n",
       "    <td></td>       <th>coef</th>     <th>std err</th>      <th>z</th>      <th>P>|z|</th>  <th>[0.025</th>    <th>0.975]</th>  \n",
       "</tr>\n",
       "<tr>\n",
       "  <th>const</th> <td>    0.0018</td> <td>    0.004</td> <td>    0.406</td> <td> 0.685</td> <td>   -0.007</td> <td>    0.011</td>\n",
       "</tr>\n",
       "<tr>\n",
       "  <th>mktrf</th> <td>    0.9379</td> <td>    0.132</td> <td>    7.106</td> <td> 0.000</td> <td>    0.679</td> <td>    1.197</td>\n",
       "</tr>\n",
       "<tr>\n",
       "  <th>smb</th>   <td>   -0.1407</td> <td>    0.271</td> <td>   -0.520</td> <td> 0.603</td> <td>   -0.671</td> <td>    0.390</td>\n",
       "</tr>\n",
       "<tr>\n",
       "  <th>hml</th>   <td>   -0.1762</td> <td>    0.184</td> <td>   -0.956</td> <td> 0.339</td> <td>   -0.538</td> <td>    0.185</td>\n",
       "</tr>\n",
       "<tr>\n",
       "  <th>rmw</th>   <td>   -0.3754</td> <td>    0.209</td> <td>   -1.795</td> <td> 0.073</td> <td>   -0.785</td> <td>    0.034</td>\n",
       "</tr>\n",
       "<tr>\n",
       "  <th>cma</th>   <td>   -0.1016</td> <td>    0.262</td> <td>   -0.387</td> <td> 0.698</td> <td>   -0.615</td> <td>    0.412</td>\n",
       "</tr>\n",
       "</table>\n",
       "<table class=\"simpletable\">\n",
       "<tr>\n",
       "  <th>Omnibus:</th>       <td>49.300</td> <th>  Durbin-Watson:     </th> <td>   1.921</td>\n",
       "</tr>\n",
       "<tr>\n",
       "  <th>Prob(Omnibus):</th> <td> 0.000</td> <th>  Jarque-Bera (JB):  </th> <td> 180.777</td>\n",
       "</tr>\n",
       "<tr>\n",
       "  <th>Skew:</th>          <td> 0.754</td> <th>  Prob(JB):          </th> <td>5.56e-40</td>\n",
       "</tr>\n",
       "<tr>\n",
       "  <th>Kurtosis:</th>      <td> 6.865</td> <th>  Cond. No.          </th> <td>    71.4</td>\n",
       "</tr>\n",
       "</table><br/><br/>Notes:<br/>[1] Standard Errors are heteroscedasticity and autocorrelation robust (HAC) using 12 lags and without small sample correction"
      ],
      "text/plain": [
       "<class 'statsmodels.iolib.summary.Summary'>\n",
       "\"\"\"\n",
       "                            OLS Regression Results                            \n",
       "==============================================================================\n",
       "Dep. Variable:                    ret   R-squared:                       0.413\n",
       "Model:                            OLS   Adj. R-squared:                  0.401\n",
       "Method:                 Least Squares   F-statistic:                     18.92\n",
       "Date:                Sun, 05 Jun 2022   Prob (F-statistic):           6.51e-16\n",
       "Time:                        22:07:07   Log-Likelihood:                 377.73\n",
       "No. Observations:                 252   AIC:                            -743.5\n",
       "Df Residuals:                     246   BIC:                            -722.3\n",
       "Df Model:                           5                                         \n",
       "Covariance Type:                  HAC                                         \n",
       "==============================================================================\n",
       "                 coef    std err          z      P>|z|      [0.025      0.975]\n",
       "------------------------------------------------------------------------------\n",
       "const          0.0018      0.004      0.406      0.685      -0.007       0.011\n",
       "mktrf          0.9379      0.132      7.106      0.000       0.679       1.197\n",
       "smb           -0.1407      0.271     -0.520      0.603      -0.671       0.390\n",
       "hml           -0.1762      0.184     -0.956      0.339      -0.538       0.185\n",
       "rmw           -0.3754      0.209     -1.795      0.073      -0.785       0.034\n",
       "cma           -0.1016      0.262     -0.387      0.698      -0.615       0.412\n",
       "==============================================================================\n",
       "Omnibus:                       49.300   Durbin-Watson:                   1.921\n",
       "Prob(Omnibus):                  0.000   Jarque-Bera (JB):              180.777\n",
       "Skew:                           0.754   Prob(JB):                     5.56e-40\n",
       "Kurtosis:                       6.865   Cond. No.                         71.4\n",
       "==============================================================================\n",
       "\n",
       "Notes:\n",
       "[1] Standard Errors are heteroscedasticity and autocorrelation robust (HAC) using 12 lags and without small sample correction\n",
       "\"\"\""
      ]
     },
     "execution_count": 10,
     "metadata": {},
     "output_type": "execute_result"
    }
   ],
   "source": [
    "results_IBM_5.summary()"
   ]
  },
  {
   "cell_type": "markdown",
   "id": "7de2a569",
   "metadata": {},
   "source": [
    "## TSM"
   ]
  },
  {
   "cell_type": "markdown",
   "id": "023ecefc",
   "metadata": {},
   "source": [
    "Times-series regression is implemented to TSM. The outcome of the regressions for the return on market premium factor, Fama-French 3 factors & 5 factors, and the Newey-West estimator  are as stated. Accordingly, the market premium factor plays a critical rule in all the models, while other factors are insignificant in the two Fama-French models. Nevertheless, the smb and hml results are significant in Fama-French 3 factors model, and hml and rmw factors are significant in five factors model, implying that hml is important for TSM’s stock price."
   ]
  },
  {
   "cell_type": "markdown",
   "id": "bc14fc1b",
   "metadata": {},
   "source": [
    "###  Market premium factor"
   ]
  },
  {
   "cell_type": "code",
   "execution_count": 11,
   "id": "56b62778",
   "metadata": {},
   "outputs": [],
   "source": [
    "df_TSM = df[df[\"ticker\"]==\"TSM\"]\n",
    "Y_TSM = df_TSM[\"ret\"]\n",
    "X_TSM = df_TSM[\"mktrf\"]\n",
    "X_TSM = sm.add_constant(X_TSM)\n",
    "model_TSM = sm.OLS(Y_TSM, X_TSM)\n",
    "results_TSM = model_TSM.fit(cov_type='HAC',cov_kwds={'maxlags':12})"
   ]
  },
  {
   "cell_type": "code",
   "execution_count": 12,
   "id": "6d2932ca",
   "metadata": {
    "scrolled": false
   },
   "outputs": [
    {
     "data": {
      "text/html": [
       "<table class=\"simpletable\">\n",
       "<caption>OLS Regression Results</caption>\n",
       "<tr>\n",
       "  <th>Dep. Variable:</th>           <td>ret</td>       <th>  R-squared:         </th> <td>   0.377</td>\n",
       "</tr>\n",
       "<tr>\n",
       "  <th>Model:</th>                   <td>OLS</td>       <th>  Adj. R-squared:    </th> <td>   0.374</td>\n",
       "</tr>\n",
       "<tr>\n",
       "  <th>Method:</th>             <td>Least Squares</td>  <th>  F-statistic:       </th> <td>   40.84</td>\n",
       "</tr>\n",
       "<tr>\n",
       "  <th>Date:</th>             <td>Sun, 05 Jun 2022</td> <th>  Prob (F-statistic):</th> <td>8.04e-10</td>\n",
       "</tr>\n",
       "<tr>\n",
       "  <th>Time:</th>                 <td>22:07:07</td>     <th>  Log-Likelihood:    </th> <td>  294.42</td>\n",
       "</tr>\n",
       "<tr>\n",
       "  <th>No. Observations:</th>      <td>   252</td>      <th>  AIC:               </th> <td>  -584.8</td>\n",
       "</tr>\n",
       "<tr>\n",
       "  <th>Df Residuals:</th>          <td>   250</td>      <th>  BIC:               </th> <td>  -577.8</td>\n",
       "</tr>\n",
       "<tr>\n",
       "  <th>Df Model:</th>              <td>     1</td>      <th>                     </th>     <td> </td>   \n",
       "</tr>\n",
       "<tr>\n",
       "  <th>Covariance Type:</th>         <td>HAC</td>       <th>                     </th>     <td> </td>   \n",
       "</tr>\n",
       "</table>\n",
       "<table class=\"simpletable\">\n",
       "<tr>\n",
       "    <td></td>       <th>coef</th>     <th>std err</th>      <th>z</th>      <th>P>|z|</th>  <th>[0.025</th>    <th>0.975]</th>  \n",
       "</tr>\n",
       "<tr>\n",
       "  <th>const</th> <td>    0.0084</td> <td>    0.004</td> <td>    1.910</td> <td> 0.056</td> <td>   -0.000</td> <td>    0.017</td>\n",
       "</tr>\n",
       "<tr>\n",
       "  <th>mktrf</th> <td>    1.3158</td> <td>    0.206</td> <td>    6.390</td> <td> 0.000</td> <td>    0.912</td> <td>    1.719</td>\n",
       "</tr>\n",
       "</table>\n",
       "<table class=\"simpletable\">\n",
       "<tr>\n",
       "  <th>Omnibus:</th>       <td>44.443</td> <th>  Durbin-Watson:     </th> <td>   2.051</td>\n",
       "</tr>\n",
       "<tr>\n",
       "  <th>Prob(Omnibus):</th> <td> 0.000</td> <th>  Jarque-Bera (JB):  </th> <td> 128.917</td>\n",
       "</tr>\n",
       "<tr>\n",
       "  <th>Skew:</th>          <td> 0.751</td> <th>  Prob(JB):          </th> <td>1.01e-28</td>\n",
       "</tr>\n",
       "<tr>\n",
       "  <th>Kurtosis:</th>      <td> 6.166</td> <th>  Cond. No.          </th> <td>    22.5</td>\n",
       "</tr>\n",
       "</table><br/><br/>Notes:<br/>[1] Standard Errors are heteroscedasticity and autocorrelation robust (HAC) using 12 lags and without small sample correction"
      ],
      "text/plain": [
       "<class 'statsmodels.iolib.summary.Summary'>\n",
       "\"\"\"\n",
       "                            OLS Regression Results                            \n",
       "==============================================================================\n",
       "Dep. Variable:                    ret   R-squared:                       0.377\n",
       "Model:                            OLS   Adj. R-squared:                  0.374\n",
       "Method:                 Least Squares   F-statistic:                     40.84\n",
       "Date:                Sun, 05 Jun 2022   Prob (F-statistic):           8.04e-10\n",
       "Time:                        22:07:07   Log-Likelihood:                 294.42\n",
       "No. Observations:                 252   AIC:                            -584.8\n",
       "Df Residuals:                     250   BIC:                            -577.8\n",
       "Df Model:                           1                                         \n",
       "Covariance Type:                  HAC                                         \n",
       "==============================================================================\n",
       "                 coef    std err          z      P>|z|      [0.025      0.975]\n",
       "------------------------------------------------------------------------------\n",
       "const          0.0084      0.004      1.910      0.056      -0.000       0.017\n",
       "mktrf          1.3158      0.206      6.390      0.000       0.912       1.719\n",
       "==============================================================================\n",
       "Omnibus:                       44.443   Durbin-Watson:                   2.051\n",
       "Prob(Omnibus):                  0.000   Jarque-Bera (JB):              128.917\n",
       "Skew:                           0.751   Prob(JB):                     1.01e-28\n",
       "Kurtosis:                       6.166   Cond. No.                         22.5\n",
       "==============================================================================\n",
       "\n",
       "Notes:\n",
       "[1] Standard Errors are heteroscedasticity and autocorrelation robust (HAC) using 12 lags and without small sample correction\n",
       "\"\"\""
      ]
     },
     "execution_count": 12,
     "metadata": {},
     "output_type": "execute_result"
    }
   ],
   "source": [
    "results_TSM.summary()"
   ]
  },
  {
   "cell_type": "markdown",
   "id": "4ab1ac0a",
   "metadata": {},
   "source": [
    "### Fama-French 3 factors"
   ]
  },
  {
   "cell_type": "code",
   "execution_count": 13,
   "id": "b0c79b23",
   "metadata": {},
   "outputs": [],
   "source": [
    "X_TSM_3 = df_TSM[[\"mktrf\", \"smb\", \"hml\"]]\n",
    "X_TSM_3 = sm.add_constant(X_TSM_3)\n",
    "model_TSM_3 = sm.OLS(Y_TSM, X_TSM_3)\n",
    "results_TSM_3 = model_TSM_3.fit(cov_type='HAC',cov_kwds={'maxlags':12})"
   ]
  },
  {
   "cell_type": "code",
   "execution_count": 14,
   "id": "c5ee951f",
   "metadata": {
    "scrolled": true
   },
   "outputs": [
    {
     "data": {
      "text/html": [
       "<table class=\"simpletable\">\n",
       "<caption>OLS Regression Results</caption>\n",
       "<tr>\n",
       "  <th>Dep. Variable:</th>           <td>ret</td>       <th>  R-squared:         </th> <td>   0.405</td>\n",
       "</tr>\n",
       "<tr>\n",
       "  <th>Model:</th>                   <td>OLS</td>       <th>  Adj. R-squared:    </th> <td>   0.398</td>\n",
       "</tr>\n",
       "<tr>\n",
       "  <th>Method:</th>             <td>Least Squares</td>  <th>  F-statistic:       </th> <td>   17.82</td>\n",
       "</tr>\n",
       "<tr>\n",
       "  <th>Date:</th>             <td>Sun, 05 Jun 2022</td> <th>  Prob (F-statistic):</th> <td>1.66e-10</td>\n",
       "</tr>\n",
       "<tr>\n",
       "  <th>Time:</th>                 <td>22:07:07</td>     <th>  Log-Likelihood:    </th> <td>  300.25</td>\n",
       "</tr>\n",
       "<tr>\n",
       "  <th>No. Observations:</th>      <td>   252</td>      <th>  AIC:               </th> <td>  -592.5</td>\n",
       "</tr>\n",
       "<tr>\n",
       "  <th>Df Residuals:</th>          <td>   248</td>      <th>  BIC:               </th> <td>  -578.4</td>\n",
       "</tr>\n",
       "<tr>\n",
       "  <th>Df Model:</th>              <td>     3</td>      <th>                     </th>     <td> </td>   \n",
       "</tr>\n",
       "<tr>\n",
       "  <th>Covariance Type:</th>         <td>HAC</td>       <th>                     </th>     <td> </td>   \n",
       "</tr>\n",
       "</table>\n",
       "<table class=\"simpletable\">\n",
       "<tr>\n",
       "    <td></td>       <th>coef</th>     <th>std err</th>      <th>z</th>      <th>P>|z|</th>  <th>[0.025</th>    <th>0.975]</th>  \n",
       "</tr>\n",
       "<tr>\n",
       "  <th>const</th> <td>    0.0077</td> <td>    0.004</td> <td>    1.913</td> <td> 0.056</td> <td>   -0.000</td> <td>    0.016</td>\n",
       "</tr>\n",
       "<tr>\n",
       "  <th>mktrf</th> <td>    1.2817</td> <td>    0.186</td> <td>    6.878</td> <td> 0.000</td> <td>    0.916</td> <td>    1.647</td>\n",
       "</tr>\n",
       "<tr>\n",
       "  <th>smb</th>   <td>    0.3514</td> <td>    0.245</td> <td>    1.435</td> <td> 0.151</td> <td>   -0.129</td> <td>    0.831</td>\n",
       "</tr>\n",
       "<tr>\n",
       "  <th>hml</th>   <td>   -0.5360</td> <td>    0.232</td> <td>   -2.309</td> <td> 0.021</td> <td>   -0.991</td> <td>   -0.081</td>\n",
       "</tr>\n",
       "</table>\n",
       "<table class=\"simpletable\">\n",
       "<tr>\n",
       "  <th>Omnibus:</th>       <td>29.319</td> <th>  Durbin-Watson:     </th> <td>   2.063</td>\n",
       "</tr>\n",
       "<tr>\n",
       "  <th>Prob(Omnibus):</th> <td> 0.000</td> <th>  Jarque-Bera (JB):  </th> <td>  64.698</td>\n",
       "</tr>\n",
       "<tr>\n",
       "  <th>Skew:</th>          <td> 0.565</td> <th>  Prob(JB):          </th> <td>8.93e-15</td>\n",
       "</tr>\n",
       "<tr>\n",
       "  <th>Kurtosis:</th>      <td> 5.210</td> <th>  Cond. No.          </th> <td>    44.2</td>\n",
       "</tr>\n",
       "</table><br/><br/>Notes:<br/>[1] Standard Errors are heteroscedasticity and autocorrelation robust (HAC) using 12 lags and without small sample correction"
      ],
      "text/plain": [
       "<class 'statsmodels.iolib.summary.Summary'>\n",
       "\"\"\"\n",
       "                            OLS Regression Results                            \n",
       "==============================================================================\n",
       "Dep. Variable:                    ret   R-squared:                       0.405\n",
       "Model:                            OLS   Adj. R-squared:                  0.398\n",
       "Method:                 Least Squares   F-statistic:                     17.82\n",
       "Date:                Sun, 05 Jun 2022   Prob (F-statistic):           1.66e-10\n",
       "Time:                        22:07:07   Log-Likelihood:                 300.25\n",
       "No. Observations:                 252   AIC:                            -592.5\n",
       "Df Residuals:                     248   BIC:                            -578.4\n",
       "Df Model:                           3                                         \n",
       "Covariance Type:                  HAC                                         \n",
       "==============================================================================\n",
       "                 coef    std err          z      P>|z|      [0.025      0.975]\n",
       "------------------------------------------------------------------------------\n",
       "const          0.0077      0.004      1.913      0.056      -0.000       0.016\n",
       "mktrf          1.2817      0.186      6.878      0.000       0.916       1.647\n",
       "smb            0.3514      0.245      1.435      0.151      -0.129       0.831\n",
       "hml           -0.5360      0.232     -2.309      0.021      -0.991      -0.081\n",
       "==============================================================================\n",
       "Omnibus:                       29.319   Durbin-Watson:                   2.063\n",
       "Prob(Omnibus):                  0.000   Jarque-Bera (JB):               64.698\n",
       "Skew:                           0.565   Prob(JB):                     8.93e-15\n",
       "Kurtosis:                       5.210   Cond. No.                         44.2\n",
       "==============================================================================\n",
       "\n",
       "Notes:\n",
       "[1] Standard Errors are heteroscedasticity and autocorrelation robust (HAC) using 12 lags and without small sample correction\n",
       "\"\"\""
      ]
     },
     "execution_count": 14,
     "metadata": {},
     "output_type": "execute_result"
    }
   ],
   "source": [
    "results_TSM_3.summary()"
   ]
  },
  {
   "cell_type": "markdown",
   "id": "ff36d525",
   "metadata": {},
   "source": [
    "### Fama-French 5 factors"
   ]
  },
  {
   "cell_type": "code",
   "execution_count": 15,
   "id": "69cfa0c6",
   "metadata": {},
   "outputs": [],
   "source": [
    "X_TSM_5 = df_TSM[[\"mktrf\", \"smb\", \"hml\", \"rmw\", \"cma\"]]\n",
    "X_TSM_5 = sm.add_constant(X_TSM_5)\n",
    "model_TSM_5 = sm.OLS(Y_TSM, X_TSM_5)\n",
    "results_TSM_5 = model_TSM_5.fit(cov_type='HAC',cov_kwds={'maxlags':12})"
   ]
  },
  {
   "cell_type": "code",
   "execution_count": 16,
   "id": "ae4bc4cf",
   "metadata": {
    "scrolled": true
   },
   "outputs": [
    {
     "data": {
      "text/html": [
       "<table class=\"simpletable\">\n",
       "<caption>OLS Regression Results</caption>\n",
       "<tr>\n",
       "  <th>Dep. Variable:</th>           <td>ret</td>       <th>  R-squared:         </th> <td>   0.441</td>\n",
       "</tr>\n",
       "<tr>\n",
       "  <th>Model:</th>                   <td>OLS</td>       <th>  Adj. R-squared:    </th> <td>   0.430</td>\n",
       "</tr>\n",
       "<tr>\n",
       "  <th>Method:</th>             <td>Least Squares</td>  <th>  F-statistic:       </th> <td>   19.11</td>\n",
       "</tr>\n",
       "<tr>\n",
       "  <th>Date:</th>             <td>Sun, 05 Jun 2022</td> <th>  Prob (F-statistic):</th> <td>4.66e-16</td>\n",
       "</tr>\n",
       "<tr>\n",
       "  <th>Time:</th>                 <td>22:07:07</td>     <th>  Log-Likelihood:    </th> <td>  308.12</td>\n",
       "</tr>\n",
       "<tr>\n",
       "  <th>No. Observations:</th>      <td>   252</td>      <th>  AIC:               </th> <td>  -604.2</td>\n",
       "</tr>\n",
       "<tr>\n",
       "  <th>Df Residuals:</th>          <td>   246</td>      <th>  BIC:               </th> <td>  -583.1</td>\n",
       "</tr>\n",
       "<tr>\n",
       "  <th>Df Model:</th>              <td>     5</td>      <th>                     </th>     <td> </td>   \n",
       "</tr>\n",
       "<tr>\n",
       "  <th>Covariance Type:</th>         <td>HAC</td>       <th>                     </th>     <td> </td>   \n",
       "</tr>\n",
       "</table>\n",
       "<table class=\"simpletable\">\n",
       "<tr>\n",
       "    <td></td>       <th>coef</th>     <th>std err</th>      <th>z</th>      <th>P>|z|</th>  <th>[0.025</th>    <th>0.975]</th>  \n",
       "</tr>\n",
       "<tr>\n",
       "  <th>const</th> <td>    0.0131</td> <td>    0.005</td> <td>    2.711</td> <td> 0.007</td> <td>    0.004</td> <td>    0.023</td>\n",
       "</tr>\n",
       "<tr>\n",
       "  <th>mktrf</th> <td>    1.1125</td> <td>    0.138</td> <td>    8.086</td> <td> 0.000</td> <td>    0.843</td> <td>    1.382</td>\n",
       "</tr>\n",
       "<tr>\n",
       "  <th>smb</th>   <td>    0.1352</td> <td>    0.237</td> <td>    0.572</td> <td> 0.568</td> <td>   -0.328</td> <td>    0.599</td>\n",
       "</tr>\n",
       "<tr>\n",
       "  <th>hml</th>   <td>   -0.3100</td> <td>    0.156</td> <td>   -1.985</td> <td> 0.047</td> <td>   -0.616</td> <td>   -0.004</td>\n",
       "</tr>\n",
       "<tr>\n",
       "  <th>rmw</th>   <td>   -0.9123</td> <td>    0.284</td> <td>   -3.216</td> <td> 0.001</td> <td>   -1.468</td> <td>   -0.356</td>\n",
       "</tr>\n",
       "<tr>\n",
       "  <th>cma</th>   <td>   -0.0958</td> <td>    0.456</td> <td>   -0.210</td> <td> 0.834</td> <td>   -0.990</td> <td>    0.799</td>\n",
       "</tr>\n",
       "</table>\n",
       "<table class=\"simpletable\">\n",
       "<tr>\n",
       "  <th>Omnibus:</th>       <td>29.927</td> <th>  Durbin-Watson:     </th> <td>   1.983</td>\n",
       "</tr>\n",
       "<tr>\n",
       "  <th>Prob(Omnibus):</th> <td> 0.000</td> <th>  Jarque-Bera (JB):  </th> <td>  67.905</td>\n",
       "</tr>\n",
       "<tr>\n",
       "  <th>Skew:</th>          <td> 0.567</td> <th>  Prob(JB):          </th> <td>1.80e-15</td>\n",
       "</tr>\n",
       "<tr>\n",
       "  <th>Kurtosis:</th>      <td> 5.276</td> <th>  Cond. No.          </th> <td>    71.4</td>\n",
       "</tr>\n",
       "</table><br/><br/>Notes:<br/>[1] Standard Errors are heteroscedasticity and autocorrelation robust (HAC) using 12 lags and without small sample correction"
      ],
      "text/plain": [
       "<class 'statsmodels.iolib.summary.Summary'>\n",
       "\"\"\"\n",
       "                            OLS Regression Results                            \n",
       "==============================================================================\n",
       "Dep. Variable:                    ret   R-squared:                       0.441\n",
       "Model:                            OLS   Adj. R-squared:                  0.430\n",
       "Method:                 Least Squares   F-statistic:                     19.11\n",
       "Date:                Sun, 05 Jun 2022   Prob (F-statistic):           4.66e-16\n",
       "Time:                        22:07:07   Log-Likelihood:                 308.12\n",
       "No. Observations:                 252   AIC:                            -604.2\n",
       "Df Residuals:                     246   BIC:                            -583.1\n",
       "Df Model:                           5                                         \n",
       "Covariance Type:                  HAC                                         \n",
       "==============================================================================\n",
       "                 coef    std err          z      P>|z|      [0.025      0.975]\n",
       "------------------------------------------------------------------------------\n",
       "const          0.0131      0.005      2.711      0.007       0.004       0.023\n",
       "mktrf          1.1125      0.138      8.086      0.000       0.843       1.382\n",
       "smb            0.1352      0.237      0.572      0.568      -0.328       0.599\n",
       "hml           -0.3100      0.156     -1.985      0.047      -0.616      -0.004\n",
       "rmw           -0.9123      0.284     -3.216      0.001      -1.468      -0.356\n",
       "cma           -0.0958      0.456     -0.210      0.834      -0.990       0.799\n",
       "==============================================================================\n",
       "Omnibus:                       29.927   Durbin-Watson:                   1.983\n",
       "Prob(Omnibus):                  0.000   Jarque-Bera (JB):               67.905\n",
       "Skew:                           0.567   Prob(JB):                     1.80e-15\n",
       "Kurtosis:                       5.276   Cond. No.                         71.4\n",
       "==============================================================================\n",
       "\n",
       "Notes:\n",
       "[1] Standard Errors are heteroscedasticity and autocorrelation robust (HAC) using 12 lags and without small sample correction\n",
       "\"\"\""
      ]
     },
     "execution_count": 16,
     "metadata": {},
     "output_type": "execute_result"
    }
   ],
   "source": [
    "results_TSM_5.summary()"
   ]
  },
  {
   "cell_type": "markdown",
   "id": "4907debe",
   "metadata": {},
   "source": [
    "# Second Part: Turnover and Out-of-Sample Tests"
   ]
  },
  {
   "cell_type": "markdown",
   "id": "a6f5a896",
   "metadata": {},
   "source": [
    "**Do stocks with weaker liquidity have to compensate investors with higher returns?**\n",
    "\n",
    "We present the result of time series regression of stock return on the turnover ratio in the previous month by using the Newey-West estimator, which includes the coefficient estimated, the t-statistic, and the corresponding p-value. **With the negative coefficient, we can roughly draw a conclusion that stocks with weaker liquidity do have to compensate investors with higher returns; However, the p-value is insignificant**."
   ]
  },
  {
   "cell_type": "code",
   "execution_count": 17,
   "id": "3b1f6646",
   "metadata": {},
   "outputs": [],
   "source": [
    "df_MSFT = df[df[\"ticker\"]==\"MSFT\"]\n",
    "Y_MSFT = df_MSFT[\"ret\"][1:]\n",
    "\n",
    "x = df_MSFT[\"turnover\"].copy()\n",
    "X_MSFT = pd.DataFrame(x[:-1]).set_index(df.index.unique()[1:])  # reset index for lag X\n",
    "\n",
    "X_MSFT = sm.add_constant(X_MSFT)\n",
    "model_MSFT = sm.OLS(Y_MSFT, X_MSFT)\n",
    "results_MSFT = model_MSFT.fit(cov_type='HAC',cov_kwds={'maxlags':12})"
   ]
  },
  {
   "cell_type": "code",
   "execution_count": 18,
   "id": "9a358da6",
   "metadata": {
    "scrolled": true
   },
   "outputs": [
    {
     "data": {
      "text/html": [
       "<table class=\"simpletable\">\n",
       "<caption>OLS Regression Results</caption>\n",
       "<tr>\n",
       "  <th>Dep. Variable:</th>           <td>ret</td>       <th>  R-squared:         </th> <td>   0.012</td>\n",
       "</tr>\n",
       "<tr>\n",
       "  <th>Model:</th>                   <td>OLS</td>       <th>  Adj. R-squared:    </th> <td>   0.008</td>\n",
       "</tr>\n",
       "<tr>\n",
       "  <th>Method:</th>             <td>Least Squares</td>  <th>  F-statistic:       </th> <td>   3.120</td>\n",
       "</tr>\n",
       "<tr>\n",
       "  <th>Date:</th>             <td>Sun, 05 Jun 2022</td> <th>  Prob (F-statistic):</th>  <td>0.0786</td> \n",
       "</tr>\n",
       "<tr>\n",
       "  <th>Time:</th>                 <td>22:07:07</td>     <th>  Log-Likelihood:    </th> <td>  317.95</td>\n",
       "</tr>\n",
       "<tr>\n",
       "  <th>No. Observations:</th>      <td>   251</td>      <th>  AIC:               </th> <td>  -631.9</td>\n",
       "</tr>\n",
       "<tr>\n",
       "  <th>Df Residuals:</th>          <td>   249</td>      <th>  BIC:               </th> <td>  -624.8</td>\n",
       "</tr>\n",
       "<tr>\n",
       "  <th>Df Model:</th>              <td>     1</td>      <th>                     </th>     <td> </td>   \n",
       "</tr>\n",
       "<tr>\n",
       "  <th>Covariance Type:</th>         <td>HAC</td>       <th>                     </th>     <td> </td>   \n",
       "</tr>\n",
       "</table>\n",
       "<table class=\"simpletable\">\n",
       "<tr>\n",
       "      <td></td>        <th>coef</th>     <th>std err</th>      <th>z</th>      <th>P>|z|</th>  <th>[0.025</th>    <th>0.975]</th>  \n",
       "</tr>\n",
       "<tr>\n",
       "  <th>const</th>    <td>    0.0348</td> <td>    0.011</td> <td>    3.067</td> <td> 0.002</td> <td>    0.013</td> <td>    0.057</td>\n",
       "</tr>\n",
       "<tr>\n",
       "  <th>turnover</th> <td>   -0.0175</td> <td>    0.010</td> <td>   -1.766</td> <td> 0.077</td> <td>   -0.037</td> <td>    0.002</td>\n",
       "</tr>\n",
       "</table>\n",
       "<table class=\"simpletable\">\n",
       "<tr>\n",
       "  <th>Omnibus:</th>       <td> 9.417</td> <th>  Durbin-Watson:     </th> <td>   2.181</td>\n",
       "</tr>\n",
       "<tr>\n",
       "  <th>Prob(Omnibus):</th> <td> 0.009</td> <th>  Jarque-Bera (JB):  </th> <td>  11.728</td>\n",
       "</tr>\n",
       "<tr>\n",
       "  <th>Skew:</th>          <td> 0.309</td> <th>  Prob(JB):          </th> <td> 0.00284</td>\n",
       "</tr>\n",
       "<tr>\n",
       "  <th>Kurtosis:</th>      <td> 3.860</td> <th>  Cond. No.          </th> <td>    5.92</td>\n",
       "</tr>\n",
       "</table><br/><br/>Notes:<br/>[1] Standard Errors are heteroscedasticity and autocorrelation robust (HAC) using 12 lags and without small sample correction"
      ],
      "text/plain": [
       "<class 'statsmodels.iolib.summary.Summary'>\n",
       "\"\"\"\n",
       "                            OLS Regression Results                            \n",
       "==============================================================================\n",
       "Dep. Variable:                    ret   R-squared:                       0.012\n",
       "Model:                            OLS   Adj. R-squared:                  0.008\n",
       "Method:                 Least Squares   F-statistic:                     3.120\n",
       "Date:                Sun, 05 Jun 2022   Prob (F-statistic):             0.0786\n",
       "Time:                        22:07:07   Log-Likelihood:                 317.95\n",
       "No. Observations:                 251   AIC:                            -631.9\n",
       "Df Residuals:                     249   BIC:                            -624.8\n",
       "Df Model:                           1                                         \n",
       "Covariance Type:                  HAC                                         \n",
       "==============================================================================\n",
       "                 coef    std err          z      P>|z|      [0.025      0.975]\n",
       "------------------------------------------------------------------------------\n",
       "const          0.0348      0.011      3.067      0.002       0.013       0.057\n",
       "turnover      -0.0175      0.010     -1.766      0.077      -0.037       0.002\n",
       "==============================================================================\n",
       "Omnibus:                        9.417   Durbin-Watson:                   2.181\n",
       "Prob(Omnibus):                  0.009   Jarque-Bera (JB):               11.728\n",
       "Skew:                           0.309   Prob(JB):                      0.00284\n",
       "Kurtosis:                       3.860   Cond. No.                         5.92\n",
       "==============================================================================\n",
       "\n",
       "Notes:\n",
       "[1] Standard Errors are heteroscedasticity and autocorrelation robust (HAC) using 12 lags and without small sample correction\n",
       "\"\"\""
      ]
     },
     "execution_count": 18,
     "metadata": {},
     "output_type": "execute_result"
    }
   ],
   "source": [
    "results_MSFT.summary()"
   ]
  },
  {
   "cell_type": "markdown",
   "id": "20ff6a39",
   "metadata": {},
   "source": [
    "**Model Comparison**"
   ]
  },
  {
   "cell_type": "markdown",
   "id": "3b6400f2",
   "metadata": {},
   "source": [
    "With the comparison of turnover model and random walk model, we can see the result of MSE as below. For the turnover model, its MSE is slightly higher than the random walk model. **The result shows that turnover model cannot be a good mdoel for stock return since the model underperform the random walk model.**"
   ]
  },
  {
   "cell_type": "markdown",
   "id": "2e5f8fad",
   "metadata": {},
   "source": [
    "MSE of Rolling Regression"
   ]
  },
  {
   "cell_type": "code",
   "execution_count": 19,
   "id": "2227690a",
   "metadata": {},
   "outputs": [
    {
     "data": {
      "text/plain": [
       "0.004213175991491555"
      ]
     },
     "execution_count": 19,
     "metadata": {},
     "output_type": "execute_result"
    }
   ],
   "source": [
    "ret = df_MSFT[\"ret\"]\n",
    "turnover = df_MSFT[\"turnover\"]\n",
    "all_res = []\n",
    "a = []\n",
    "b = []\n",
    "\n",
    "for i in range(df_MSFT.shape[0]-24):\n",
    "    ret_i = ret.iloc[i:i+23]\n",
    "    turnover_i = turnover.iloc[i:i+23]\n",
    "    turnover_i = sm.add_constant(turnover_i)\n",
    "    model = sm.OLS(ret_i, turnover_i).fit()\n",
    "    residual = ret.iloc[i+24] - (model.params[0] + model.params[1]*turnover.iloc[i+24])\n",
    "    all_res.append(residual)\n",
    "\n",
    "for i in range(len(all_res)):\n",
    "    all_res[i] = all_res[i]**2\n",
    "\n",
    "sum(all_res)/228"
   ]
  },
  {
   "cell_type": "markdown",
   "id": "7c346c8b",
   "metadata": {},
   "source": [
    "MSE of average of 24 month model"
   ]
  },
  {
   "cell_type": "code",
   "execution_count": 20,
   "id": "df862ee4",
   "metadata": {},
   "outputs": [
    {
     "data": {
      "text/plain": [
       "0.004087260674424726"
      ]
     },
     "execution_count": 20,
     "metadata": {},
     "output_type": "execute_result"
    }
   ],
   "source": [
    "past_average = []\n",
    "for end_time in range(len(Y_MSFT)):\n",
    "    avg = np.mean(Y_MSFT[end_time-24:end_time])\n",
    "    if np.isnan(avg) == False:\n",
    "        past_average.append(avg)\n",
    "\n",
    "mse(past_average, Y_MSFT[24:])"
   ]
  },
  {
   "cell_type": "markdown",
   "id": "e4321b6b",
   "metadata": {},
   "source": [
    "# Third Part: Portfolio Analysis"
   ]
  },
  {
   "cell_type": "markdown",
   "id": "bcfbfd75",
   "metadata": {},
   "source": [
    "using the information between 2001 and 2010"
   ]
  },
  {
   "cell_type": "code",
   "execution_count": 21,
   "id": "beab6f63",
   "metadata": {
    "scrolled": true
   },
   "outputs": [
    {
     "data": {
      "text/plain": [
       "DatetimeIndex(['2001-01-01', '2001-02-01', '2001-03-01', '2001-04-01',\n",
       "               '2001-05-01', '2001-06-01', '2001-07-01', '2001-08-01',\n",
       "               '2001-09-01', '2001-10-01',\n",
       "               ...\n",
       "               '2010-03-01', '2010-04-01', '2010-05-01', '2010-06-01',\n",
       "               '2010-07-01', '2010-08-01', '2010-09-01', '2010-10-01',\n",
       "               '2010-11-01', '2010-12-01'],\n",
       "              dtype='datetime64[ns]', name='ym', length=120, freq=None)"
      ]
     },
     "execution_count": 21,
     "metadata": {},
     "output_type": "execute_result"
    }
   ],
   "source": [
    "df.index.unique()[:120]"
   ]
  },
  {
   "cell_type": "markdown",
   "id": "25596f4c",
   "metadata": {},
   "source": [
    "using the information between 2011 and 2021"
   ]
  },
  {
   "cell_type": "code",
   "execution_count": 22,
   "id": "d03a1b52",
   "metadata": {},
   "outputs": [
    {
     "data": {
      "text/plain": [
       "DatetimeIndex(['2011-01-01', '2011-02-01', '2011-03-01', '2011-04-01',\n",
       "               '2011-05-01', '2011-06-01', '2011-07-01', '2011-08-01',\n",
       "               '2011-09-01', '2011-10-01',\n",
       "               ...\n",
       "               '2021-03-01', '2021-04-01', '2021-05-01', '2021-06-01',\n",
       "               '2021-07-01', '2021-08-01', '2021-09-01', '2021-10-01',\n",
       "               '2021-11-01', '2021-12-01'],\n",
       "              dtype='datetime64[ns]', name='ym', length=132, freq=None)"
      ]
     },
     "execution_count": 22,
     "metadata": {},
     "output_type": "execute_result"
    }
   ],
   "source": [
    "df.index.unique()[120:]"
   ]
  },
  {
   "cell_type": "markdown",
   "id": "249a72eb",
   "metadata": {},
   "source": [
    "## First Portfolio "
   ]
  },
  {
   "cell_type": "markdown",
   "id": "7062281b",
   "metadata": {},
   "source": [
    "**Equal-weighted**"
   ]
  },
  {
   "cell_type": "code",
   "execution_count": 23,
   "id": "e0605f01",
   "metadata": {},
   "outputs": [],
   "source": [
    "df_first = {\n",
    "    \"ret\": [],\n",
    "    \"mktrf\": [],\n",
    "    \"smb\": [],\n",
    "    \"hml\": [],\n",
    "    \"rmw\": [],\n",
    "    \"cma\": []\n",
    "}"
   ]
  },
  {
   "cell_type": "code",
   "execution_count": 24,
   "id": "4d61d9fb",
   "metadata": {},
   "outputs": [],
   "source": [
    "for i in range(len(df.index.unique())):\n",
    "    df_first[\"ret\"].append(df.loc[df.index.unique()[i]][\"ret\"].mean())\n",
    "    df_first[\"mktrf\"].append(df.loc[df.index.unique()[i]][\"mktrf\"].mean())\n",
    "    df_first[\"smb\"].append(df.loc[df.index.unique()[i]][\"smb\"].mean())\n",
    "    df_first[\"hml\"].append(df.loc[df.index.unique()[i]][\"hml\"].mean())\n",
    "    df_first[\"rmw\"].append(df.loc[df.index.unique()[i]][\"rmw\"].mean())\n",
    "    df_first[\"cma\"].append(df.loc[df.index.unique()[i]][\"cma\"].mean())"
   ]
  },
  {
   "cell_type": "code",
   "execution_count": 25,
   "id": "23086d39",
   "metadata": {},
   "outputs": [],
   "source": [
    "df_first = pd.DataFrame(df_first).set_index(df.index.unique())"
   ]
  },
  {
   "cell_type": "code",
   "execution_count": 26,
   "id": "c925a3fe",
   "metadata": {
    "scrolled": false
   },
   "outputs": [
    {
     "data": {
      "text/html": [
       "<div>\n",
       "<style scoped>\n",
       "    .dataframe tbody tr th:only-of-type {\n",
       "        vertical-align: middle;\n",
       "    }\n",
       "\n",
       "    .dataframe tbody tr th {\n",
       "        vertical-align: top;\n",
       "    }\n",
       "\n",
       "    .dataframe thead th {\n",
       "        text-align: right;\n",
       "    }\n",
       "</style>\n",
       "<table border=\"1\" class=\"dataframe\">\n",
       "  <thead>\n",
       "    <tr style=\"text-align: right;\">\n",
       "      <th></th>\n",
       "      <th>ret</th>\n",
       "      <th>mktrf</th>\n",
       "      <th>smb</th>\n",
       "      <th>hml</th>\n",
       "      <th>rmw</th>\n",
       "      <th>cma</th>\n",
       "    </tr>\n",
       "    <tr>\n",
       "      <th>ym</th>\n",
       "      <th></th>\n",
       "      <th></th>\n",
       "      <th></th>\n",
       "      <th></th>\n",
       "      <th></th>\n",
       "      <th></th>\n",
       "    </tr>\n",
       "  </thead>\n",
       "  <tbody>\n",
       "    <tr>\n",
       "      <th>2001-01-01</th>\n",
       "      <td>0.255562</td>\n",
       "      <td>0.0313</td>\n",
       "      <td>0.0545</td>\n",
       "      <td>-0.0511</td>\n",
       "      <td>-0.0546</td>\n",
       "      <td>-0.0505</td>\n",
       "    </tr>\n",
       "    <tr>\n",
       "      <th>2001-02-01</th>\n",
       "      <td>-0.103990</td>\n",
       "      <td>-0.1005</td>\n",
       "      <td>0.0279</td>\n",
       "      <td>0.1248</td>\n",
       "      <td>0.0912</td>\n",
       "      <td>0.0906</td>\n",
       "    </tr>\n",
       "    <tr>\n",
       "      <th>2001-03-01</th>\n",
       "      <td>0.034233</td>\n",
       "      <td>-0.0726</td>\n",
       "      <td>0.0236</td>\n",
       "      <td>0.0643</td>\n",
       "      <td>0.0339</td>\n",
       "      <td>0.0390</td>\n",
       "    </tr>\n",
       "    <tr>\n",
       "      <th>2001-04-01</th>\n",
       "      <td>0.139320</td>\n",
       "      <td>0.0794</td>\n",
       "      <td>-0.0088</td>\n",
       "      <td>-0.0470</td>\n",
       "      <td>-0.0348</td>\n",
       "      <td>-0.0318</td>\n",
       "    </tr>\n",
       "    <tr>\n",
       "      <th>2001-05-01</th>\n",
       "      <td>-0.047119</td>\n",
       "      <td>0.0072</td>\n",
       "      <td>0.0359</td>\n",
       "      <td>0.0336</td>\n",
       "      <td>0.0025</td>\n",
       "      <td>0.0191</td>\n",
       "    </tr>\n",
       "  </tbody>\n",
       "</table>\n",
       "</div>"
      ],
      "text/plain": [
       "                 ret   mktrf     smb     hml     rmw     cma\n",
       "ym                                                          \n",
       "2001-01-01  0.255562  0.0313  0.0545 -0.0511 -0.0546 -0.0505\n",
       "2001-02-01 -0.103990 -0.1005  0.0279  0.1248  0.0912  0.0906\n",
       "2001-03-01  0.034233 -0.0726  0.0236  0.0643  0.0339  0.0390\n",
       "2001-04-01  0.139320  0.0794 -0.0088 -0.0470 -0.0348 -0.0318\n",
       "2001-05-01 -0.047119  0.0072  0.0359  0.0336  0.0025  0.0191"
      ]
     },
     "execution_count": 26,
     "metadata": {},
     "output_type": "execute_result"
    }
   ],
   "source": [
    "df_first.head()"
   ]
  },
  {
   "cell_type": "markdown",
   "id": "1a013b31",
   "metadata": {},
   "source": [
    "###  Market premium factor (2001-2010)"
   ]
  },
  {
   "cell_type": "code",
   "execution_count": 27,
   "id": "ac7fa7db",
   "metadata": {
    "scrolled": true
   },
   "outputs": [],
   "source": [
    "Y1_first = df_first[\"ret\"][df.index.unique()[:120]]\n",
    "X_first = df_first[\"mktrf\"][df.index.unique()[:120]]\n",
    "X_first = sm.add_constant(X_first)\n",
    "model_first = sm.OLS(Y1_first, X_first)\n",
    "results_first = model_first.fit(cov_type='HAC',cov_kwds={'maxlags':12})"
   ]
  },
  {
   "cell_type": "code",
   "execution_count": 28,
   "id": "574dba29",
   "metadata": {
    "scrolled": true
   },
   "outputs": [
    {
     "data": {
      "text/html": [
       "<table class=\"simpletable\">\n",
       "<caption>OLS Regression Results</caption>\n",
       "<tr>\n",
       "  <th>Dep. Variable:</th>           <td>ret</td>       <th>  R-squared:         </th> <td>   0.700</td>\n",
       "</tr>\n",
       "<tr>\n",
       "  <th>Model:</th>                   <td>OLS</td>       <th>  Adj. R-squared:    </th> <td>   0.698</td>\n",
       "</tr>\n",
       "<tr>\n",
       "  <th>Method:</th>             <td>Least Squares</td>  <th>  F-statistic:       </th> <td>   275.8</td>\n",
       "</tr>\n",
       "<tr>\n",
       "  <th>Date:</th>             <td>Sun, 05 Jun 2022</td> <th>  Prob (F-statistic):</th> <td>1.14e-32</td>\n",
       "</tr>\n",
       "<tr>\n",
       "  <th>Time:</th>                 <td>22:07:09</td>     <th>  Log-Likelihood:    </th> <td>  234.98</td>\n",
       "</tr>\n",
       "<tr>\n",
       "  <th>No. Observations:</th>      <td>   120</td>      <th>  AIC:               </th> <td>  -466.0</td>\n",
       "</tr>\n",
       "<tr>\n",
       "  <th>Df Residuals:</th>          <td>   118</td>      <th>  BIC:               </th> <td>  -460.4</td>\n",
       "</tr>\n",
       "<tr>\n",
       "  <th>Df Model:</th>              <td>     1</td>      <th>                     </th>     <td> </td>   \n",
       "</tr>\n",
       "<tr>\n",
       "  <th>Covariance Type:</th>         <td>HAC</td>       <th>                     </th>     <td> </td>   \n",
       "</tr>\n",
       "</table>\n",
       "<table class=\"simpletable\">\n",
       "<tr>\n",
       "    <td></td>       <th>coef</th>     <th>std err</th>      <th>z</th>      <th>P>|z|</th>  <th>[0.025</th>    <th>0.975]</th>  \n",
       "</tr>\n",
       "<tr>\n",
       "  <th>const</th> <td>    0.0108</td> <td>    0.004</td> <td>    2.839</td> <td> 0.005</td> <td>    0.003</td> <td>    0.018</td>\n",
       "</tr>\n",
       "<tr>\n",
       "  <th>mktrf</th> <td>    1.0833</td> <td>    0.065</td> <td>   16.608</td> <td> 0.000</td> <td>    0.955</td> <td>    1.211</td>\n",
       "</tr>\n",
       "</table>\n",
       "<table class=\"simpletable\">\n",
       "<tr>\n",
       "  <th>Omnibus:</th>       <td>87.556</td> <th>  Durbin-Watson:     </th> <td>   1.578</td> \n",
       "</tr>\n",
       "<tr>\n",
       "  <th>Prob(Omnibus):</th> <td> 0.000</td> <th>  Jarque-Bera (JB):  </th> <td> 743.461</td> \n",
       "</tr>\n",
       "<tr>\n",
       "  <th>Skew:</th>          <td> 2.387</td> <th>  Prob(JB):          </th> <td>3.63e-162</td>\n",
       "</tr>\n",
       "<tr>\n",
       "  <th>Kurtosis:</th>      <td>14.220</td> <th>  Cond. No.          </th> <td>    20.7</td> \n",
       "</tr>\n",
       "</table><br/><br/>Notes:<br/>[1] Standard Errors are heteroscedasticity and autocorrelation robust (HAC) using 12 lags and without small sample correction"
      ],
      "text/plain": [
       "<class 'statsmodels.iolib.summary.Summary'>\n",
       "\"\"\"\n",
       "                            OLS Regression Results                            \n",
       "==============================================================================\n",
       "Dep. Variable:                    ret   R-squared:                       0.700\n",
       "Model:                            OLS   Adj. R-squared:                  0.698\n",
       "Method:                 Least Squares   F-statistic:                     275.8\n",
       "Date:                Sun, 05 Jun 2022   Prob (F-statistic):           1.14e-32\n",
       "Time:                        22:07:09   Log-Likelihood:                 234.98\n",
       "No. Observations:                 120   AIC:                            -466.0\n",
       "Df Residuals:                     118   BIC:                            -460.4\n",
       "Df Model:                           1                                         \n",
       "Covariance Type:                  HAC                                         \n",
       "==============================================================================\n",
       "                 coef    std err          z      P>|z|      [0.025      0.975]\n",
       "------------------------------------------------------------------------------\n",
       "const          0.0108      0.004      2.839      0.005       0.003       0.018\n",
       "mktrf          1.0833      0.065     16.608      0.000       0.955       1.211\n",
       "==============================================================================\n",
       "Omnibus:                       87.556   Durbin-Watson:                   1.578\n",
       "Prob(Omnibus):                  0.000   Jarque-Bera (JB):              743.461\n",
       "Skew:                           2.387   Prob(JB):                    3.63e-162\n",
       "Kurtosis:                      14.220   Cond. No.                         20.7\n",
       "==============================================================================\n",
       "\n",
       "Notes:\n",
       "[1] Standard Errors are heteroscedasticity and autocorrelation robust (HAC) using 12 lags and without small sample correction\n",
       "\"\"\""
      ]
     },
     "execution_count": 28,
     "metadata": {},
     "output_type": "execute_result"
    }
   ],
   "source": [
    "results_first.summary()"
   ]
  },
  {
   "cell_type": "markdown",
   "id": "ba60b324",
   "metadata": {},
   "source": [
    "###  Market premium factor (2011-2021)"
   ]
  },
  {
   "cell_type": "code",
   "execution_count": 29,
   "id": "c669930c",
   "metadata": {
    "scrolled": true
   },
   "outputs": [],
   "source": [
    "Y2_first = df_first[\"ret\"][df.index.unique()[120:]]\n",
    "X_first = df_first[\"mktrf\"][df.index.unique()[120:]]\n",
    "X_first = sm.add_constant(X_first)\n",
    "model_first = sm.OLS(Y2_first, X_first)\n",
    "results_first = model_first.fit(cov_type='HAC',cov_kwds={'maxlags':12})"
   ]
  },
  {
   "cell_type": "code",
   "execution_count": 30,
   "id": "d6835b8d",
   "metadata": {
    "scrolled": true
   },
   "outputs": [
    {
     "data": {
      "text/html": [
       "<table class=\"simpletable\">\n",
       "<caption>OLS Regression Results</caption>\n",
       "<tr>\n",
       "  <th>Dep. Variable:</th>           <td>ret</td>       <th>  R-squared:         </th> <td>   0.790</td>\n",
       "</tr>\n",
       "<tr>\n",
       "  <th>Model:</th>                   <td>OLS</td>       <th>  Adj. R-squared:    </th> <td>   0.788</td>\n",
       "</tr>\n",
       "<tr>\n",
       "  <th>Method:</th>             <td>Least Squares</td>  <th>  F-statistic:       </th> <td>   698.1</td>\n",
       "</tr>\n",
       "<tr>\n",
       "  <th>Date:</th>             <td>Sun, 05 Jun 2022</td> <th>  Prob (F-statistic):</th> <td>4.09e-54</td>\n",
       "</tr>\n",
       "<tr>\n",
       "  <th>Time:</th>                 <td>22:07:09</td>     <th>  Log-Likelihood:    </th> <td>  330.04</td>\n",
       "</tr>\n",
       "<tr>\n",
       "  <th>No. Observations:</th>      <td>   132</td>      <th>  AIC:               </th> <td>  -656.1</td>\n",
       "</tr>\n",
       "<tr>\n",
       "  <th>Df Residuals:</th>          <td>   130</td>      <th>  BIC:               </th> <td>  -650.3</td>\n",
       "</tr>\n",
       "<tr>\n",
       "  <th>Df Model:</th>              <td>     1</td>      <th>                     </th>     <td> </td>   \n",
       "</tr>\n",
       "<tr>\n",
       "  <th>Covariance Type:</th>         <td>HAC</td>       <th>                     </th>     <td> </td>   \n",
       "</tr>\n",
       "</table>\n",
       "<table class=\"simpletable\">\n",
       "<tr>\n",
       "    <td></td>       <th>coef</th>     <th>std err</th>      <th>z</th>      <th>P>|z|</th>  <th>[0.025</th>    <th>0.975]</th>  \n",
       "</tr>\n",
       "<tr>\n",
       "  <th>const</th> <td>    0.0032</td> <td>    0.001</td> <td>    2.277</td> <td> 0.023</td> <td>    0.000</td> <td>    0.006</td>\n",
       "</tr>\n",
       "<tr>\n",
       "  <th>mktrf</th> <td>    0.9595</td> <td>    0.036</td> <td>   26.421</td> <td> 0.000</td> <td>    0.888</td> <td>    1.031</td>\n",
       "</tr>\n",
       "</table>\n",
       "<table class=\"simpletable\">\n",
       "<tr>\n",
       "  <th>Omnibus:</th>       <td> 1.209</td> <th>  Durbin-Watson:     </th> <td>   2.156</td>\n",
       "</tr>\n",
       "<tr>\n",
       "  <th>Prob(Omnibus):</th> <td> 0.546</td> <th>  Jarque-Bera (JB):  </th> <td>   0.774</td>\n",
       "</tr>\n",
       "<tr>\n",
       "  <th>Skew:</th>          <td> 0.061</td> <th>  Prob(JB):          </th> <td>   0.679</td>\n",
       "</tr>\n",
       "<tr>\n",
       "  <th>Kurtosis:</th>      <td> 3.355</td> <th>  Cond. No.          </th> <td>    24.9</td>\n",
       "</tr>\n",
       "</table><br/><br/>Notes:<br/>[1] Standard Errors are heteroscedasticity and autocorrelation robust (HAC) using 12 lags and without small sample correction"
      ],
      "text/plain": [
       "<class 'statsmodels.iolib.summary.Summary'>\n",
       "\"\"\"\n",
       "                            OLS Regression Results                            \n",
       "==============================================================================\n",
       "Dep. Variable:                    ret   R-squared:                       0.790\n",
       "Model:                            OLS   Adj. R-squared:                  0.788\n",
       "Method:                 Least Squares   F-statistic:                     698.1\n",
       "Date:                Sun, 05 Jun 2022   Prob (F-statistic):           4.09e-54\n",
       "Time:                        22:07:09   Log-Likelihood:                 330.04\n",
       "No. Observations:                 132   AIC:                            -656.1\n",
       "Df Residuals:                     130   BIC:                            -650.3\n",
       "Df Model:                           1                                         \n",
       "Covariance Type:                  HAC                                         \n",
       "==============================================================================\n",
       "                 coef    std err          z      P>|z|      [0.025      0.975]\n",
       "------------------------------------------------------------------------------\n",
       "const          0.0032      0.001      2.277      0.023       0.000       0.006\n",
       "mktrf          0.9595      0.036     26.421      0.000       0.888       1.031\n",
       "==============================================================================\n",
       "Omnibus:                        1.209   Durbin-Watson:                   2.156\n",
       "Prob(Omnibus):                  0.546   Jarque-Bera (JB):                0.774\n",
       "Skew:                           0.061   Prob(JB):                        0.679\n",
       "Kurtosis:                       3.355   Cond. No.                         24.9\n",
       "==============================================================================\n",
       "\n",
       "Notes:\n",
       "[1] Standard Errors are heteroscedasticity and autocorrelation robust (HAC) using 12 lags and without small sample correction\n",
       "\"\"\""
      ]
     },
     "execution_count": 30,
     "metadata": {},
     "output_type": "execute_result"
    }
   ],
   "source": [
    "results_first.summary()"
   ]
  },
  {
   "cell_type": "markdown",
   "id": "a2f335f4",
   "metadata": {},
   "source": [
    "###  Fama-French 3 factors (2001-2010)"
   ]
  },
  {
   "cell_type": "code",
   "execution_count": 31,
   "id": "e3c4d58e",
   "metadata": {
    "scrolled": true
   },
   "outputs": [],
   "source": [
    "X_first_3 = df_first[[\"mktrf\", \"smb\", \"hml\"]]\n",
    "X_first_3 = sm.add_constant(X_first_3)\n",
    "model_first_3 = sm.OLS(Y1_first, X_first_3[:120])\n",
    "results_first_3 = model_first_3.fit(cov_type='HAC',cov_kwds={'maxlags':12})"
   ]
  },
  {
   "cell_type": "code",
   "execution_count": 32,
   "id": "3cf9a3e5",
   "metadata": {
    "scrolled": true
   },
   "outputs": [
    {
     "data": {
      "text/html": [
       "<table class=\"simpletable\">\n",
       "<caption>OLS Regression Results</caption>\n",
       "<tr>\n",
       "  <th>Dep. Variable:</th>           <td>ret</td>       <th>  R-squared:         </th> <td>   0.706</td>\n",
       "</tr>\n",
       "<tr>\n",
       "  <th>Model:</th>                   <td>OLS</td>       <th>  Adj. R-squared:    </th> <td>   0.698</td>\n",
       "</tr>\n",
       "<tr>\n",
       "  <th>Method:</th>             <td>Least Squares</td>  <th>  F-statistic:       </th> <td>   113.0</td>\n",
       "</tr>\n",
       "<tr>\n",
       "  <th>Date:</th>             <td>Sun, 05 Jun 2022</td> <th>  Prob (F-statistic):</th> <td>2.85e-34</td>\n",
       "</tr>\n",
       "<tr>\n",
       "  <th>Time:</th>                 <td>22:07:09</td>     <th>  Log-Likelihood:    </th> <td>  236.10</td>\n",
       "</tr>\n",
       "<tr>\n",
       "  <th>No. Observations:</th>      <td>   120</td>      <th>  AIC:               </th> <td>  -464.2</td>\n",
       "</tr>\n",
       "<tr>\n",
       "  <th>Df Residuals:</th>          <td>   116</td>      <th>  BIC:               </th> <td>  -453.0</td>\n",
       "</tr>\n",
       "<tr>\n",
       "  <th>Df Model:</th>              <td>     3</td>      <th>                     </th>     <td> </td>   \n",
       "</tr>\n",
       "<tr>\n",
       "  <th>Covariance Type:</th>         <td>HAC</td>       <th>                     </th>     <td> </td>   \n",
       "</tr>\n",
       "</table>\n",
       "<table class=\"simpletable\">\n",
       "<tr>\n",
       "    <td></td>       <th>coef</th>     <th>std err</th>      <th>z</th>      <th>P>|z|</th>  <th>[0.025</th>    <th>0.975]</th>  \n",
       "</tr>\n",
       "<tr>\n",
       "  <th>const</th> <td>    0.0107</td> <td>    0.003</td> <td>    3.344</td> <td> 0.001</td> <td>    0.004</td> <td>    0.017</td>\n",
       "</tr>\n",
       "<tr>\n",
       "  <th>mktrf</th> <td>    1.0740</td> <td>    0.071</td> <td>   15.089</td> <td> 0.000</td> <td>    0.935</td> <td>    1.214</td>\n",
       "</tr>\n",
       "<tr>\n",
       "  <th>smb</th>   <td>    0.0822</td> <td>    0.196</td> <td>    0.419</td> <td> 0.676</td> <td>   -0.303</td> <td>    0.467</td>\n",
       "</tr>\n",
       "<tr>\n",
       "  <th>hml</th>   <td>   -0.1504</td> <td>    0.175</td> <td>   -0.858</td> <td> 0.391</td> <td>   -0.494</td> <td>    0.193</td>\n",
       "</tr>\n",
       "</table>\n",
       "<table class=\"simpletable\">\n",
       "<tr>\n",
       "  <th>Omnibus:</th>       <td>77.770</td> <th>  Durbin-Watson:     </th> <td>   1.523</td> \n",
       "</tr>\n",
       "<tr>\n",
       "  <th>Prob(Omnibus):</th> <td> 0.000</td> <th>  Jarque-Bera (JB):  </th> <td> 525.237</td> \n",
       "</tr>\n",
       "<tr>\n",
       "  <th>Skew:</th>          <td> 2.132</td> <th>  Prob(JB):          </th> <td>8.84e-115</td>\n",
       "</tr>\n",
       "<tr>\n",
       "  <th>Kurtosis:</th>      <td>12.320</td> <th>  Cond. No.          </th> <td>    41.4</td> \n",
       "</tr>\n",
       "</table><br/><br/>Notes:<br/>[1] Standard Errors are heteroscedasticity and autocorrelation robust (HAC) using 12 lags and without small sample correction"
      ],
      "text/plain": [
       "<class 'statsmodels.iolib.summary.Summary'>\n",
       "\"\"\"\n",
       "                            OLS Regression Results                            \n",
       "==============================================================================\n",
       "Dep. Variable:                    ret   R-squared:                       0.706\n",
       "Model:                            OLS   Adj. R-squared:                  0.698\n",
       "Method:                 Least Squares   F-statistic:                     113.0\n",
       "Date:                Sun, 05 Jun 2022   Prob (F-statistic):           2.85e-34\n",
       "Time:                        22:07:09   Log-Likelihood:                 236.10\n",
       "No. Observations:                 120   AIC:                            -464.2\n",
       "Df Residuals:                     116   BIC:                            -453.0\n",
       "Df Model:                           3                                         \n",
       "Covariance Type:                  HAC                                         \n",
       "==============================================================================\n",
       "                 coef    std err          z      P>|z|      [0.025      0.975]\n",
       "------------------------------------------------------------------------------\n",
       "const          0.0107      0.003      3.344      0.001       0.004       0.017\n",
       "mktrf          1.0740      0.071     15.089      0.000       0.935       1.214\n",
       "smb            0.0822      0.196      0.419      0.676      -0.303       0.467\n",
       "hml           -0.1504      0.175     -0.858      0.391      -0.494       0.193\n",
       "==============================================================================\n",
       "Omnibus:                       77.770   Durbin-Watson:                   1.523\n",
       "Prob(Omnibus):                  0.000   Jarque-Bera (JB):              525.237\n",
       "Skew:                           2.132   Prob(JB):                    8.84e-115\n",
       "Kurtosis:                      12.320   Cond. No.                         41.4\n",
       "==============================================================================\n",
       "\n",
       "Notes:\n",
       "[1] Standard Errors are heteroscedasticity and autocorrelation robust (HAC) using 12 lags and without small sample correction\n",
       "\"\"\""
      ]
     },
     "execution_count": 32,
     "metadata": {},
     "output_type": "execute_result"
    }
   ],
   "source": [
    "results_first_3.summary()"
   ]
  },
  {
   "cell_type": "markdown",
   "id": "100d3510",
   "metadata": {},
   "source": [
    "###  Fama-French 3 factors (2011-2021)"
   ]
  },
  {
   "cell_type": "code",
   "execution_count": 33,
   "id": "08d34e13",
   "metadata": {
    "scrolled": true
   },
   "outputs": [],
   "source": [
    "X_first_3 = df_first[[\"mktrf\", \"smb\", \"hml\"]]\n",
    "X_first_3 = sm.add_constant(X_first_3)\n",
    "model_first_3 = sm.OLS(Y2_first, X_first_3[120:])\n",
    "results_first_3 = model_first_3.fit(cov_type='HAC',cov_kwds={'maxlags':12})"
   ]
  },
  {
   "cell_type": "code",
   "execution_count": 34,
   "id": "ac077669",
   "metadata": {
    "scrolled": true
   },
   "outputs": [
    {
     "data": {
      "text/html": [
       "<table class=\"simpletable\">\n",
       "<caption>OLS Regression Results</caption>\n",
       "<tr>\n",
       "  <th>Dep. Variable:</th>           <td>ret</td>       <th>  R-squared:         </th> <td>   0.809</td>\n",
       "</tr>\n",
       "<tr>\n",
       "  <th>Model:</th>                   <td>OLS</td>       <th>  Adj. R-squared:    </th> <td>   0.804</td>\n",
       "</tr>\n",
       "<tr>\n",
       "  <th>Method:</th>             <td>Least Squares</td>  <th>  F-statistic:       </th> <td>   270.7</td>\n",
       "</tr>\n",
       "<tr>\n",
       "  <th>Date:</th>             <td>Sun, 05 Jun 2022</td> <th>  Prob (F-statistic):</th> <td>3.18e-55</td>\n",
       "</tr>\n",
       "<tr>\n",
       "  <th>Time:</th>                 <td>22:07:09</td>     <th>  Log-Likelihood:    </th> <td>  336.29</td>\n",
       "</tr>\n",
       "<tr>\n",
       "  <th>No. Observations:</th>      <td>   132</td>      <th>  AIC:               </th> <td>  -664.6</td>\n",
       "</tr>\n",
       "<tr>\n",
       "  <th>Df Residuals:</th>          <td>   128</td>      <th>  BIC:               </th> <td>  -653.1</td>\n",
       "</tr>\n",
       "<tr>\n",
       "  <th>Df Model:</th>              <td>     3</td>      <th>                     </th>     <td> </td>   \n",
       "</tr>\n",
       "<tr>\n",
       "  <th>Covariance Type:</th>         <td>HAC</td>       <th>                     </th>     <td> </td>   \n",
       "</tr>\n",
       "</table>\n",
       "<table class=\"simpletable\">\n",
       "<tr>\n",
       "    <td></td>       <th>coef</th>     <th>std err</th>      <th>z</th>      <th>P>|z|</th>  <th>[0.025</th>    <th>0.975]</th>  \n",
       "</tr>\n",
       "<tr>\n",
       "  <th>const</th> <td>    0.0029</td> <td>    0.001</td> <td>    1.937</td> <td> 0.053</td> <td>-3.37e-05</td> <td>    0.006</td>\n",
       "</tr>\n",
       "<tr>\n",
       "  <th>mktrf</th> <td>    0.9998</td> <td>    0.039</td> <td>   25.633</td> <td> 0.000</td> <td>    0.923</td> <td>    1.076</td>\n",
       "</tr>\n",
       "<tr>\n",
       "  <th>smb</th>   <td>   -0.2394</td> <td>    0.098</td> <td>   -2.445</td> <td> 0.014</td> <td>   -0.431</td> <td>   -0.048</td>\n",
       "</tr>\n",
       "<tr>\n",
       "  <th>hml</th>   <td>    0.1498</td> <td>    0.052</td> <td>    2.873</td> <td> 0.004</td> <td>    0.048</td> <td>    0.252</td>\n",
       "</tr>\n",
       "</table>\n",
       "<table class=\"simpletable\">\n",
       "<tr>\n",
       "  <th>Omnibus:</th>       <td> 1.810</td> <th>  Durbin-Watson:     </th> <td>   2.157</td>\n",
       "</tr>\n",
       "<tr>\n",
       "  <th>Prob(Omnibus):</th> <td> 0.405</td> <th>  Jarque-Bera (JB):  </th> <td>   1.449</td>\n",
       "</tr>\n",
       "<tr>\n",
       "  <th>Skew:</th>          <td>-0.031</td> <th>  Prob(JB):          </th> <td>   0.484</td>\n",
       "</tr>\n",
       "<tr>\n",
       "  <th>Kurtosis:</th>      <td> 3.510</td> <th>  Cond. No.          </th> <td>    48.1</td>\n",
       "</tr>\n",
       "</table><br/><br/>Notes:<br/>[1] Standard Errors are heteroscedasticity and autocorrelation robust (HAC) using 12 lags and without small sample correction"
      ],
      "text/plain": [
       "<class 'statsmodels.iolib.summary.Summary'>\n",
       "\"\"\"\n",
       "                            OLS Regression Results                            \n",
       "==============================================================================\n",
       "Dep. Variable:                    ret   R-squared:                       0.809\n",
       "Model:                            OLS   Adj. R-squared:                  0.804\n",
       "Method:                 Least Squares   F-statistic:                     270.7\n",
       "Date:                Sun, 05 Jun 2022   Prob (F-statistic):           3.18e-55\n",
       "Time:                        22:07:09   Log-Likelihood:                 336.29\n",
       "No. Observations:                 132   AIC:                            -664.6\n",
       "Df Residuals:                     128   BIC:                            -653.1\n",
       "Df Model:                           3                                         \n",
       "Covariance Type:                  HAC                                         \n",
       "==============================================================================\n",
       "                 coef    std err          z      P>|z|      [0.025      0.975]\n",
       "------------------------------------------------------------------------------\n",
       "const          0.0029      0.001      1.937      0.053   -3.37e-05       0.006\n",
       "mktrf          0.9998      0.039     25.633      0.000       0.923       1.076\n",
       "smb           -0.2394      0.098     -2.445      0.014      -0.431      -0.048\n",
       "hml            0.1498      0.052      2.873      0.004       0.048       0.252\n",
       "==============================================================================\n",
       "Omnibus:                        1.810   Durbin-Watson:                   2.157\n",
       "Prob(Omnibus):                  0.405   Jarque-Bera (JB):                1.449\n",
       "Skew:                          -0.031   Prob(JB):                        0.484\n",
       "Kurtosis:                       3.510   Cond. No.                         48.1\n",
       "==============================================================================\n",
       "\n",
       "Notes:\n",
       "[1] Standard Errors are heteroscedasticity and autocorrelation robust (HAC) using 12 lags and without small sample correction\n",
       "\"\"\""
      ]
     },
     "execution_count": 34,
     "metadata": {},
     "output_type": "execute_result"
    }
   ],
   "source": [
    "results_first_3.summary()"
   ]
  },
  {
   "cell_type": "markdown",
   "id": "9916f700",
   "metadata": {},
   "source": [
    "###  Fama-French 5 factors (2001-2010)"
   ]
  },
  {
   "cell_type": "code",
   "execution_count": 35,
   "id": "c7ff12f7",
   "metadata": {},
   "outputs": [],
   "source": [
    "X_first_5 = df_first[[\"mktrf\", \"smb\", \"hml\", \"rmw\", \"cma\"]]\n",
    "X_first_5 = sm.add_constant(X_first_5)\n",
    "model_first_5 = sm.OLS(Y1_first, X_first_5[:120])\n",
    "results_first_5 = model_first_5.fit(cov_type='HAC',cov_kwds={'maxlags':12})"
   ]
  },
  {
   "cell_type": "code",
   "execution_count": 36,
   "id": "87d8a094",
   "metadata": {},
   "outputs": [
    {
     "data": {
      "text/html": [
       "<table class=\"simpletable\">\n",
       "<caption>OLS Regression Results</caption>\n",
       "<tr>\n",
       "  <th>Dep. Variable:</th>           <td>ret</td>       <th>  R-squared:         </th> <td>   0.746</td>\n",
       "</tr>\n",
       "<tr>\n",
       "  <th>Model:</th>                   <td>OLS</td>       <th>  Adj. R-squared:    </th> <td>   0.735</td>\n",
       "</tr>\n",
       "<tr>\n",
       "  <th>Method:</th>             <td>Least Squares</td>  <th>  F-statistic:       </th> <td>   166.5</td>\n",
       "</tr>\n",
       "<tr>\n",
       "  <th>Date:</th>             <td>Sun, 05 Jun 2022</td> <th>  Prob (F-statistic):</th> <td>1.12e-50</td>\n",
       "</tr>\n",
       "<tr>\n",
       "  <th>Time:</th>                 <td>22:07:09</td>     <th>  Log-Likelihood:    </th> <td>  244.90</td>\n",
       "</tr>\n",
       "<tr>\n",
       "  <th>No. Observations:</th>      <td>   120</td>      <th>  AIC:               </th> <td>  -477.8</td>\n",
       "</tr>\n",
       "<tr>\n",
       "  <th>Df Residuals:</th>          <td>   114</td>      <th>  BIC:               </th> <td>  -461.1</td>\n",
       "</tr>\n",
       "<tr>\n",
       "  <th>Df Model:</th>              <td>     5</td>      <th>                     </th>     <td> </td>   \n",
       "</tr>\n",
       "<tr>\n",
       "  <th>Covariance Type:</th>         <td>HAC</td>       <th>                     </th>     <td> </td>   \n",
       "</tr>\n",
       "</table>\n",
       "<table class=\"simpletable\">\n",
       "<tr>\n",
       "    <td></td>       <th>coef</th>     <th>std err</th>      <th>z</th>      <th>P>|z|</th>  <th>[0.025</th>    <th>0.975]</th>  \n",
       "</tr>\n",
       "<tr>\n",
       "  <th>const</th> <td>    0.0143</td> <td>    0.004</td> <td>    3.622</td> <td> 0.000</td> <td>    0.007</td> <td>    0.022</td>\n",
       "</tr>\n",
       "<tr>\n",
       "  <th>mktrf</th> <td>    0.8955</td> <td>    0.128</td> <td>    6.970</td> <td> 0.000</td> <td>    0.644</td> <td>    1.147</td>\n",
       "</tr>\n",
       "<tr>\n",
       "  <th>smb</th>   <td>    0.0610</td> <td>    0.177</td> <td>    0.345</td> <td> 0.730</td> <td>   -0.286</td> <td>    0.408</td>\n",
       "</tr>\n",
       "<tr>\n",
       "  <th>hml</th>   <td>    0.1742</td> <td>    0.153</td> <td>    1.142</td> <td> 0.253</td> <td>   -0.125</td> <td>    0.473</td>\n",
       "</tr>\n",
       "<tr>\n",
       "  <th>rmw</th>   <td>   -0.3824</td> <td>    0.150</td> <td>   -2.545</td> <td> 0.011</td> <td>   -0.677</td> <td>   -0.088</td>\n",
       "</tr>\n",
       "<tr>\n",
       "  <th>cma</th>   <td>   -0.6133</td> <td>    0.219</td> <td>   -2.797</td> <td> 0.005</td> <td>   -1.043</td> <td>   -0.184</td>\n",
       "</tr>\n",
       "</table>\n",
       "<table class=\"simpletable\">\n",
       "<tr>\n",
       "  <th>Omnibus:</th>       <td>59.598</td> <th>  Durbin-Watson:     </th> <td>   1.406</td>\n",
       "</tr>\n",
       "<tr>\n",
       "  <th>Prob(Omnibus):</th> <td> 0.000</td> <th>  Jarque-Bera (JB):  </th> <td> 257.119</td>\n",
       "</tr>\n",
       "<tr>\n",
       "  <th>Skew:</th>          <td> 1.696</td> <th>  Prob(JB):          </th> <td>1.47e-56</td>\n",
       "</tr>\n",
       "<tr>\n",
       "  <th>Kurtosis:</th>      <td> 9.318</td> <th>  Cond. No.          </th> <td>    67.2</td>\n",
       "</tr>\n",
       "</table><br/><br/>Notes:<br/>[1] Standard Errors are heteroscedasticity and autocorrelation robust (HAC) using 12 lags and without small sample correction"
      ],
      "text/plain": [
       "<class 'statsmodels.iolib.summary.Summary'>\n",
       "\"\"\"\n",
       "                            OLS Regression Results                            \n",
       "==============================================================================\n",
       "Dep. Variable:                    ret   R-squared:                       0.746\n",
       "Model:                            OLS   Adj. R-squared:                  0.735\n",
       "Method:                 Least Squares   F-statistic:                     166.5\n",
       "Date:                Sun, 05 Jun 2022   Prob (F-statistic):           1.12e-50\n",
       "Time:                        22:07:09   Log-Likelihood:                 244.90\n",
       "No. Observations:                 120   AIC:                            -477.8\n",
       "Df Residuals:                     114   BIC:                            -461.1\n",
       "Df Model:                           5                                         \n",
       "Covariance Type:                  HAC                                         \n",
       "==============================================================================\n",
       "                 coef    std err          z      P>|z|      [0.025      0.975]\n",
       "------------------------------------------------------------------------------\n",
       "const          0.0143      0.004      3.622      0.000       0.007       0.022\n",
       "mktrf          0.8955      0.128      6.970      0.000       0.644       1.147\n",
       "smb            0.0610      0.177      0.345      0.730      -0.286       0.408\n",
       "hml            0.1742      0.153      1.142      0.253      -0.125       0.473\n",
       "rmw           -0.3824      0.150     -2.545      0.011      -0.677      -0.088\n",
       "cma           -0.6133      0.219     -2.797      0.005      -1.043      -0.184\n",
       "==============================================================================\n",
       "Omnibus:                       59.598   Durbin-Watson:                   1.406\n",
       "Prob(Omnibus):                  0.000   Jarque-Bera (JB):              257.119\n",
       "Skew:                           1.696   Prob(JB):                     1.47e-56\n",
       "Kurtosis:                       9.318   Cond. No.                         67.2\n",
       "==============================================================================\n",
       "\n",
       "Notes:\n",
       "[1] Standard Errors are heteroscedasticity and autocorrelation robust (HAC) using 12 lags and without small sample correction\n",
       "\"\"\""
      ]
     },
     "execution_count": 36,
     "metadata": {},
     "output_type": "execute_result"
    }
   ],
   "source": [
    "results_first_5.summary()"
   ]
  },
  {
   "cell_type": "markdown",
   "id": "c47c6f3d",
   "metadata": {},
   "source": [
    "###  Fama-French 5 factors (2011-2021)"
   ]
  },
  {
   "cell_type": "code",
   "execution_count": 37,
   "id": "f7553ec5",
   "metadata": {},
   "outputs": [],
   "source": [
    "X_first_5 = df_first[[\"mktrf\", \"smb\", \"hml\", \"rmw\", \"cma\"]]\n",
    "X_first_5 = sm.add_constant(X_first_5)\n",
    "model_first_5 = sm.OLS(Y2_first, X_first_5[120:])\n",
    "results_first_5 = model_first_5.fit(cov_type='HAC',cov_kwds={'maxlags':12})"
   ]
  },
  {
   "cell_type": "code",
   "execution_count": 38,
   "id": "e333cd51",
   "metadata": {},
   "outputs": [
    {
     "data": {
      "text/html": [
       "<table class=\"simpletable\">\n",
       "<caption>OLS Regression Results</caption>\n",
       "<tr>\n",
       "  <th>Dep. Variable:</th>           <td>ret</td>       <th>  R-squared:         </th> <td>   0.810</td>\n",
       "</tr>\n",
       "<tr>\n",
       "  <th>Model:</th>                   <td>OLS</td>       <th>  Adj. R-squared:    </th> <td>   0.802</td>\n",
       "</tr>\n",
       "<tr>\n",
       "  <th>Method:</th>             <td>Least Squares</td>  <th>  F-statistic:       </th> <td>   176.3</td>\n",
       "</tr>\n",
       "<tr>\n",
       "  <th>Date:</th>             <td>Sun, 05 Jun 2022</td> <th>  Prob (F-statistic):</th> <td>4.21e-55</td>\n",
       "</tr>\n",
       "<tr>\n",
       "  <th>Time:</th>                 <td>22:07:09</td>     <th>  Log-Likelihood:    </th> <td>  336.62</td>\n",
       "</tr>\n",
       "<tr>\n",
       "  <th>No. Observations:</th>      <td>   132</td>      <th>  AIC:               </th> <td>  -661.2</td>\n",
       "</tr>\n",
       "<tr>\n",
       "  <th>Df Residuals:</th>          <td>   126</td>      <th>  BIC:               </th> <td>  -643.9</td>\n",
       "</tr>\n",
       "<tr>\n",
       "  <th>Df Model:</th>              <td>     5</td>      <th>                     </th>     <td> </td>   \n",
       "</tr>\n",
       "<tr>\n",
       "  <th>Covariance Type:</th>         <td>HAC</td>       <th>                     </th>     <td> </td>   \n",
       "</tr>\n",
       "</table>\n",
       "<table class=\"simpletable\">\n",
       "<tr>\n",
       "    <td></td>       <th>coef</th>     <th>std err</th>      <th>z</th>      <th>P>|z|</th>  <th>[0.025</th>    <th>0.975]</th>  \n",
       "</tr>\n",
       "<tr>\n",
       "  <th>const</th> <td>    0.0031</td> <td>    0.002</td> <td>    1.943</td> <td> 0.052</td> <td> -2.6e-05</td> <td>    0.006</td>\n",
       "</tr>\n",
       "<tr>\n",
       "  <th>mktrf</th> <td>    0.9916</td> <td>    0.041</td> <td>   24.163</td> <td> 0.000</td> <td>    0.911</td> <td>    1.072</td>\n",
       "</tr>\n",
       "<tr>\n",
       "  <th>smb</th>   <td>   -0.2496</td> <td>    0.087</td> <td>   -2.870</td> <td> 0.004</td> <td>   -0.420</td> <td>   -0.079</td>\n",
       "</tr>\n",
       "<tr>\n",
       "  <th>hml</th>   <td>    0.1832</td> <td>    0.070</td> <td>    2.617</td> <td> 0.009</td> <td>    0.046</td> <td>    0.320</td>\n",
       "</tr>\n",
       "<tr>\n",
       "  <th>rmw</th>   <td>   -0.0190</td> <td>    0.121</td> <td>   -0.157</td> <td> 0.875</td> <td>   -0.257</td> <td>    0.219</td>\n",
       "</tr>\n",
       "<tr>\n",
       "  <th>cma</th>   <td>   -0.0962</td> <td>    0.227</td> <td>   -0.425</td> <td> 0.671</td> <td>   -0.540</td> <td>    0.348</td>\n",
       "</tr>\n",
       "</table>\n",
       "<table class=\"simpletable\">\n",
       "<tr>\n",
       "  <th>Omnibus:</th>       <td> 1.094</td> <th>  Durbin-Watson:     </th> <td>   2.122</td>\n",
       "</tr>\n",
       "<tr>\n",
       "  <th>Prob(Omnibus):</th> <td> 0.579</td> <th>  Jarque-Bera (JB):  </th> <td>   0.666</td>\n",
       "</tr>\n",
       "<tr>\n",
       "  <th>Skew:</th>          <td>-0.048</td> <th>  Prob(JB):          </th> <td>   0.717</td>\n",
       "</tr>\n",
       "<tr>\n",
       "  <th>Kurtosis:</th>      <td> 3.334</td> <th>  Cond. No.          </th> <td>    81.2</td>\n",
       "</tr>\n",
       "</table><br/><br/>Notes:<br/>[1] Standard Errors are heteroscedasticity and autocorrelation robust (HAC) using 12 lags and without small sample correction"
      ],
      "text/plain": [
       "<class 'statsmodels.iolib.summary.Summary'>\n",
       "\"\"\"\n",
       "                            OLS Regression Results                            \n",
       "==============================================================================\n",
       "Dep. Variable:                    ret   R-squared:                       0.810\n",
       "Model:                            OLS   Adj. R-squared:                  0.802\n",
       "Method:                 Least Squares   F-statistic:                     176.3\n",
       "Date:                Sun, 05 Jun 2022   Prob (F-statistic):           4.21e-55\n",
       "Time:                        22:07:09   Log-Likelihood:                 336.62\n",
       "No. Observations:                 132   AIC:                            -661.2\n",
       "Df Residuals:                     126   BIC:                            -643.9\n",
       "Df Model:                           5                                         \n",
       "Covariance Type:                  HAC                                         \n",
       "==============================================================================\n",
       "                 coef    std err          z      P>|z|      [0.025      0.975]\n",
       "------------------------------------------------------------------------------\n",
       "const          0.0031      0.002      1.943      0.052    -2.6e-05       0.006\n",
       "mktrf          0.9916      0.041     24.163      0.000       0.911       1.072\n",
       "smb           -0.2496      0.087     -2.870      0.004      -0.420      -0.079\n",
       "hml            0.1832      0.070      2.617      0.009       0.046       0.320\n",
       "rmw           -0.0190      0.121     -0.157      0.875      -0.257       0.219\n",
       "cma           -0.0962      0.227     -0.425      0.671      -0.540       0.348\n",
       "==============================================================================\n",
       "Omnibus:                        1.094   Durbin-Watson:                   2.122\n",
       "Prob(Omnibus):                  0.579   Jarque-Bera (JB):                0.666\n",
       "Skew:                          -0.048   Prob(JB):                        0.717\n",
       "Kurtosis:                       3.334   Cond. No.                         81.2\n",
       "==============================================================================\n",
       "\n",
       "Notes:\n",
       "[1] Standard Errors are heteroscedasticity and autocorrelation robust (HAC) using 12 lags and without small sample correction\n",
       "\"\"\""
      ]
     },
     "execution_count": 38,
     "metadata": {},
     "output_type": "execute_result"
    }
   ],
   "source": [
    "results_first_5.summary()"
   ]
  },
  {
   "cell_type": "markdown",
   "id": "881bf849",
   "metadata": {},
   "source": [
    "## Second portfolio"
   ]
  },
  {
   "cell_type": "markdown",
   "id": "9556fa98",
   "metadata": {},
   "source": [
    "**62% AAPL & 14% WMT & 24% XOM**"
   ]
  },
  {
   "cell_type": "code",
   "execution_count": 39,
   "id": "bb7e2fc6",
   "metadata": {},
   "outputs": [],
   "source": [
    "df_second = {\n",
    "    \"ret\": [],\n",
    "    \"mktrf\": [],\n",
    "    \"smb\": [],\n",
    "    \"hml\": [],\n",
    "    \"rmw\": [],\n",
    "    \"cma\": []\n",
    "}"
   ]
  },
  {
   "cell_type": "code",
   "execution_count": 40,
   "id": "58af6df4",
   "metadata": {},
   "outputs": [
    {
     "data": {
      "text/plain": [
       "0.45378151535987854"
      ]
     },
     "execution_count": 40,
     "metadata": {},
     "output_type": "execute_result"
    }
   ],
   "source": [
    "## test: stock == \"AAPL\" & column = \"ret\" & specific date\n",
    "df[df[\"ticker\"]==\"AAPL\"][\"ret\"][df.index.unique()[0]]"
   ]
  },
  {
   "cell_type": "code",
   "execution_count": 41,
   "id": "bd634081",
   "metadata": {},
   "outputs": [],
   "source": [
    "for i in range(len(df.index.unique())):\n",
    "    df_second[\"ret\"].append(df[df[\"ticker\"]==\"AAPL\"][\"ret\"][df.index.unique()[i]]*0.62 + df[df[\"ticker\"]==\"WMT\"][\"ret\"][df.index.unique()[i]]*0.14 + df[df[\"ticker\"]==\"XOM\"][\"ret\"][df.index.unique()[i]]*0.24)\n",
    "    df_second[\"mktrf\"].append(df[df[\"ticker\"]==\"AAPL\"][\"mktrf\"][df.index.unique()[i]]*0.62 + df[df[\"ticker\"]==\"WMT\"][\"mktrf\"][df.index.unique()[i]]*0.14 + df[df[\"ticker\"]==\"XOM\"][\"mktrf\"][df.index.unique()[i]]*0.24)\n",
    "    df_second[\"smb\"].append(df[df[\"ticker\"]==\"AAPL\"][\"smb\"][df.index.unique()[i]]*0.62 + df[df[\"ticker\"]==\"WMT\"][\"smb\"][df.index.unique()[i]]*0.14 + df[df[\"ticker\"]==\"XOM\"][\"smb\"][df.index.unique()[i]]*0.24)\n",
    "    df_second[\"hml\"].append(df[df[\"ticker\"]==\"AAPL\"][\"hml\"][df.index.unique()[i]]*0.62 + df[df[\"ticker\"]==\"WMT\"][\"hml\"][df.index.unique()[i]]*0.14 + df[df[\"ticker\"]==\"XOM\"][\"hml\"][df.index.unique()[i]]*0.24)\n",
    "    df_second[\"rmw\"].append(df[df[\"ticker\"]==\"AAPL\"][\"rmw\"][df.index.unique()[i]]*0.62 + df[df[\"ticker\"]==\"WMT\"][\"rmw\"][df.index.unique()[i]]*0.14 + df[df[\"ticker\"]==\"XOM\"][\"rmw\"][df.index.unique()[i]]*0.24)\n",
    "    df_second[\"cma\"].append(df[df[\"ticker\"]==\"AAPL\"][\"cma\"][df.index.unique()[i]]*0.62 + df[df[\"ticker\"]==\"WMT\"][\"cma\"][df.index.unique()[i]]*0.14 + df[df[\"ticker\"]==\"XOM\"][\"cma\"][df.index.unique()[i]]*0.24)"
   ]
  },
  {
   "cell_type": "code",
   "execution_count": 42,
   "id": "2a2d1a66",
   "metadata": {},
   "outputs": [],
   "source": [
    "df_second = pd.DataFrame(df_second).set_index(df.index.unique())"
   ]
  },
  {
   "cell_type": "code",
   "execution_count": 43,
   "id": "d496ee83",
   "metadata": {},
   "outputs": [
    {
     "data": {
      "text/html": [
       "<div>\n",
       "<style scoped>\n",
       "    .dataframe tbody tr th:only-of-type {\n",
       "        vertical-align: middle;\n",
       "    }\n",
       "\n",
       "    .dataframe tbody tr th {\n",
       "        vertical-align: top;\n",
       "    }\n",
       "\n",
       "    .dataframe thead th {\n",
       "        text-align: right;\n",
       "    }\n",
       "</style>\n",
       "<table border=\"1\" class=\"dataframe\">\n",
       "  <thead>\n",
       "    <tr style=\"text-align: right;\">\n",
       "      <th></th>\n",
       "      <th>ret</th>\n",
       "      <th>mktrf</th>\n",
       "      <th>smb</th>\n",
       "      <th>hml</th>\n",
       "      <th>rmw</th>\n",
       "      <th>cma</th>\n",
       "    </tr>\n",
       "    <tr>\n",
       "      <th>ym</th>\n",
       "      <th></th>\n",
       "      <th></th>\n",
       "      <th></th>\n",
       "      <th></th>\n",
       "      <th></th>\n",
       "      <th></th>\n",
       "    </tr>\n",
       "  </thead>\n",
       "  <tbody>\n",
       "    <tr>\n",
       "      <th>2001-01-01</th>\n",
       "      <td>0.283334</td>\n",
       "      <td>0.0313</td>\n",
       "      <td>0.0545</td>\n",
       "      <td>-0.0511</td>\n",
       "      <td>-0.0546</td>\n",
       "      <td>-0.0505</td>\n",
       "    </tr>\n",
       "    <tr>\n",
       "      <th>2001-02-01</th>\n",
       "      <td>-0.120888</td>\n",
       "      <td>-0.1005</td>\n",
       "      <td>0.0279</td>\n",
       "      <td>0.1248</td>\n",
       "      <td>0.0912</td>\n",
       "      <td>0.0906</td>\n",
       "    </tr>\n",
       "    <tr>\n",
       "      <th>2001-03-01</th>\n",
       "      <td>0.130969</td>\n",
       "      <td>-0.0726</td>\n",
       "      <td>0.0236</td>\n",
       "      <td>0.0643</td>\n",
       "      <td>0.0339</td>\n",
       "      <td>0.0390</td>\n",
       "    </tr>\n",
       "    <tr>\n",
       "      <th>2001-04-01</th>\n",
       "      <td>0.122032</td>\n",
       "      <td>0.0794</td>\n",
       "      <td>-0.0088</td>\n",
       "      <td>-0.0470</td>\n",
       "      <td>-0.0348</td>\n",
       "      <td>-0.0318</td>\n",
       "    </tr>\n",
       "    <tr>\n",
       "      <th>2001-05-01</th>\n",
       "      <td>-0.133126</td>\n",
       "      <td>0.0072</td>\n",
       "      <td>0.0359</td>\n",
       "      <td>0.0336</td>\n",
       "      <td>0.0025</td>\n",
       "      <td>0.0191</td>\n",
       "    </tr>\n",
       "  </tbody>\n",
       "</table>\n",
       "</div>"
      ],
      "text/plain": [
       "                 ret   mktrf     smb     hml     rmw     cma\n",
       "ym                                                          \n",
       "2001-01-01  0.283334  0.0313  0.0545 -0.0511 -0.0546 -0.0505\n",
       "2001-02-01 -0.120888 -0.1005  0.0279  0.1248  0.0912  0.0906\n",
       "2001-03-01  0.130969 -0.0726  0.0236  0.0643  0.0339  0.0390\n",
       "2001-04-01  0.122032  0.0794 -0.0088 -0.0470 -0.0348 -0.0318\n",
       "2001-05-01 -0.133126  0.0072  0.0359  0.0336  0.0025  0.0191"
      ]
     },
     "execution_count": 43,
     "metadata": {},
     "output_type": "execute_result"
    }
   ],
   "source": [
    "df_second.head()"
   ]
  },
  {
   "cell_type": "markdown",
   "id": "ecb024a6",
   "metadata": {},
   "source": [
    "###  Market premium factor (2001-2010)"
   ]
  },
  {
   "cell_type": "code",
   "execution_count": 44,
   "id": "09188bd3",
   "metadata": {
    "scrolled": true
   },
   "outputs": [],
   "source": [
    "Y1_second = df_second[\"ret\"][:120]\n",
    "X_second = df_second[\"mktrf\"][:120]\n",
    "X_second = sm.add_constant(X_second)\n",
    "model_second = sm.OLS(Y1_second, X_second)\n",
    "results_second = model_second.fit(cov_type='HAC',cov_kwds={'maxlags':12})"
   ]
  },
  {
   "cell_type": "code",
   "execution_count": 45,
   "id": "d9cfe61a",
   "metadata": {},
   "outputs": [
    {
     "data": {
      "text/html": [
       "<table class=\"simpletable\">\n",
       "<caption>OLS Regression Results</caption>\n",
       "<tr>\n",
       "  <th>Dep. Variable:</th>           <td>ret</td>       <th>  R-squared:         </th> <td>   0.367</td>\n",
       "</tr>\n",
       "<tr>\n",
       "  <th>Model:</th>                   <td>OLS</td>       <th>  Adj. R-squared:    </th> <td>   0.361</td>\n",
       "</tr>\n",
       "<tr>\n",
       "  <th>Method:</th>             <td>Least Squares</td>  <th>  F-statistic:       </th> <td>   88.65</td>\n",
       "</tr>\n",
       "<tr>\n",
       "  <th>Date:</th>             <td>Sun, 05 Jun 2022</td> <th>  Prob (F-statistic):</th> <td>4.86e-16</td>\n",
       "</tr>\n",
       "<tr>\n",
       "  <th>Time:</th>                 <td>22:07:12</td>     <th>  Log-Likelihood:    </th> <td>  155.48</td>\n",
       "</tr>\n",
       "<tr>\n",
       "  <th>No. Observations:</th>      <td>   120</td>      <th>  AIC:               </th> <td>  -307.0</td>\n",
       "</tr>\n",
       "<tr>\n",
       "  <th>Df Residuals:</th>          <td>   118</td>      <th>  BIC:               </th> <td>  -301.4</td>\n",
       "</tr>\n",
       "<tr>\n",
       "  <th>Df Model:</th>              <td>     1</td>      <th>                     </th>     <td> </td>   \n",
       "</tr>\n",
       "<tr>\n",
       "  <th>Covariance Type:</th>         <td>HAC</td>       <th>                     </th>     <td> </td>   \n",
       "</tr>\n",
       "</table>\n",
       "<table class=\"simpletable\">\n",
       "<tr>\n",
       "    <td></td>       <th>coef</th>     <th>std err</th>      <th>z</th>      <th>P>|z|</th>  <th>[0.025</th>    <th>0.975]</th>  \n",
       "</tr>\n",
       "<tr>\n",
       "  <th>const</th> <td>    0.0254</td> <td>    0.006</td> <td>    4.299</td> <td> 0.000</td> <td>    0.014</td> <td>    0.037</td>\n",
       "</tr>\n",
       "<tr>\n",
       "  <th>mktrf</th> <td>    1.0452</td> <td>    0.111</td> <td>    9.415</td> <td> 0.000</td> <td>    0.828</td> <td>    1.263</td>\n",
       "</tr>\n",
       "</table>\n",
       "<table class=\"simpletable\">\n",
       "<tr>\n",
       "  <th>Omnibus:</th>       <td> 6.858</td> <th>  Durbin-Watson:     </th> <td>   1.961</td>\n",
       "</tr>\n",
       "<tr>\n",
       "  <th>Prob(Omnibus):</th> <td> 0.032</td> <th>  Jarque-Bera (JB):  </th> <td>   7.550</td>\n",
       "</tr>\n",
       "<tr>\n",
       "  <th>Skew:</th>          <td> 0.376</td> <th>  Prob(JB):          </th> <td>  0.0229</td>\n",
       "</tr>\n",
       "<tr>\n",
       "  <th>Kurtosis:</th>      <td> 3.972</td> <th>  Cond. No.          </th> <td>    20.7</td>\n",
       "</tr>\n",
       "</table><br/><br/>Notes:<br/>[1] Standard Errors are heteroscedasticity and autocorrelation robust (HAC) using 12 lags and without small sample correction"
      ],
      "text/plain": [
       "<class 'statsmodels.iolib.summary.Summary'>\n",
       "\"\"\"\n",
       "                            OLS Regression Results                            \n",
       "==============================================================================\n",
       "Dep. Variable:                    ret   R-squared:                       0.367\n",
       "Model:                            OLS   Adj. R-squared:                  0.361\n",
       "Method:                 Least Squares   F-statistic:                     88.65\n",
       "Date:                Sun, 05 Jun 2022   Prob (F-statistic):           4.86e-16\n",
       "Time:                        22:07:12   Log-Likelihood:                 155.48\n",
       "No. Observations:                 120   AIC:                            -307.0\n",
       "Df Residuals:                     118   BIC:                            -301.4\n",
       "Df Model:                           1                                         \n",
       "Covariance Type:                  HAC                                         \n",
       "==============================================================================\n",
       "                 coef    std err          z      P>|z|      [0.025      0.975]\n",
       "------------------------------------------------------------------------------\n",
       "const          0.0254      0.006      4.299      0.000       0.014       0.037\n",
       "mktrf          1.0452      0.111      9.415      0.000       0.828       1.263\n",
       "==============================================================================\n",
       "Omnibus:                        6.858   Durbin-Watson:                   1.961\n",
       "Prob(Omnibus):                  0.032   Jarque-Bera (JB):                7.550\n",
       "Skew:                           0.376   Prob(JB):                       0.0229\n",
       "Kurtosis:                       3.972   Cond. No.                         20.7\n",
       "==============================================================================\n",
       "\n",
       "Notes:\n",
       "[1] Standard Errors are heteroscedasticity and autocorrelation robust (HAC) using 12 lags and without small sample correction\n",
       "\"\"\""
      ]
     },
     "execution_count": 45,
     "metadata": {},
     "output_type": "execute_result"
    }
   ],
   "source": [
    "results_second.summary()"
   ]
  },
  {
   "cell_type": "markdown",
   "id": "fe0ec779",
   "metadata": {},
   "source": [
    "###  Market premium factor (2011-2021)"
   ]
  },
  {
   "cell_type": "code",
   "execution_count": 46,
   "id": "5e73a85a",
   "metadata": {
    "scrolled": true
   },
   "outputs": [],
   "source": [
    "Y2_second = df_second[\"ret\"][120:]\n",
    "X_second = df_second[\"mktrf\"][120:]\n",
    "X_second = sm.add_constant(X_second)\n",
    "model_second = sm.OLS(Y2_second, X_second)\n",
    "results_second = model_second.fit(cov_type='HAC',cov_kwds={'maxlags':12})"
   ]
  },
  {
   "cell_type": "code",
   "execution_count": 47,
   "id": "c78eadcf",
   "metadata": {},
   "outputs": [
    {
     "data": {
      "text/html": [
       "<table class=\"simpletable\">\n",
       "<caption>OLS Regression Results</caption>\n",
       "<tr>\n",
       "  <th>Dep. Variable:</th>           <td>ret</td>       <th>  R-squared:         </th> <td>   0.488</td>\n",
       "</tr>\n",
       "<tr>\n",
       "  <th>Model:</th>                   <td>OLS</td>       <th>  Adj. R-squared:    </th> <td>   0.484</td>\n",
       "</tr>\n",
       "<tr>\n",
       "  <th>Method:</th>             <td>Least Squares</td>  <th>  F-statistic:       </th> <td>   105.4</td>\n",
       "</tr>\n",
       "<tr>\n",
       "  <th>Date:</th>             <td>Sun, 05 Jun 2022</td> <th>  Prob (F-statistic):</th> <td>1.80e-18</td>\n",
       "</tr>\n",
       "<tr>\n",
       "  <th>Time:</th>                 <td>22:07:12</td>     <th>  Log-Likelihood:    </th> <td>  237.85</td>\n",
       "</tr>\n",
       "<tr>\n",
       "  <th>No. Observations:</th>      <td>   132</td>      <th>  AIC:               </th> <td>  -471.7</td>\n",
       "</tr>\n",
       "<tr>\n",
       "  <th>Df Residuals:</th>          <td>   130</td>      <th>  BIC:               </th> <td>  -465.9</td>\n",
       "</tr>\n",
       "<tr>\n",
       "  <th>Df Model:</th>              <td>     1</td>      <th>                     </th>     <td> </td>   \n",
       "</tr>\n",
       "<tr>\n",
       "  <th>Covariance Type:</th>         <td>HAC</td>       <th>                     </th>     <td> </td>   \n",
       "</tr>\n",
       "</table>\n",
       "<table class=\"simpletable\">\n",
       "<tr>\n",
       "    <td></td>       <th>coef</th>     <th>std err</th>      <th>z</th>      <th>P>|z|</th>  <th>[0.025</th>    <th>0.975]</th>  \n",
       "</tr>\n",
       "<tr>\n",
       "  <th>const</th> <td>    0.0063</td> <td>    0.004</td> <td>    1.600</td> <td> 0.110</td> <td>   -0.001</td> <td>    0.014</td>\n",
       "</tr>\n",
       "<tr>\n",
       "  <th>mktrf</th> <td>    0.9710</td> <td>    0.095</td> <td>   10.266</td> <td> 0.000</td> <td>    0.786</td> <td>    1.156</td>\n",
       "</tr>\n",
       "</table>\n",
       "<table class=\"simpletable\">\n",
       "<tr>\n",
       "  <th>Omnibus:</th>       <td> 9.596</td> <th>  Durbin-Watson:     </th> <td>   1.897</td>\n",
       "</tr>\n",
       "<tr>\n",
       "  <th>Prob(Omnibus):</th> <td> 0.008</td> <th>  Jarque-Bera (JB):  </th> <td>  11.716</td>\n",
       "</tr>\n",
       "<tr>\n",
       "  <th>Skew:</th>          <td>-0.450</td> <th>  Prob(JB):          </th> <td> 0.00286</td>\n",
       "</tr>\n",
       "<tr>\n",
       "  <th>Kurtosis:</th>      <td> 4.149</td> <th>  Cond. No.          </th> <td>    24.9</td>\n",
       "</tr>\n",
       "</table><br/><br/>Notes:<br/>[1] Standard Errors are heteroscedasticity and autocorrelation robust (HAC) using 12 lags and without small sample correction"
      ],
      "text/plain": [
       "<class 'statsmodels.iolib.summary.Summary'>\n",
       "\"\"\"\n",
       "                            OLS Regression Results                            \n",
       "==============================================================================\n",
       "Dep. Variable:                    ret   R-squared:                       0.488\n",
       "Model:                            OLS   Adj. R-squared:                  0.484\n",
       "Method:                 Least Squares   F-statistic:                     105.4\n",
       "Date:                Sun, 05 Jun 2022   Prob (F-statistic):           1.80e-18\n",
       "Time:                        22:07:12   Log-Likelihood:                 237.85\n",
       "No. Observations:                 132   AIC:                            -471.7\n",
       "Df Residuals:                     130   BIC:                            -465.9\n",
       "Df Model:                           1                                         \n",
       "Covariance Type:                  HAC                                         \n",
       "==============================================================================\n",
       "                 coef    std err          z      P>|z|      [0.025      0.975]\n",
       "------------------------------------------------------------------------------\n",
       "const          0.0063      0.004      1.600      0.110      -0.001       0.014\n",
       "mktrf          0.9710      0.095     10.266      0.000       0.786       1.156\n",
       "==============================================================================\n",
       "Omnibus:                        9.596   Durbin-Watson:                   1.897\n",
       "Prob(Omnibus):                  0.008   Jarque-Bera (JB):               11.716\n",
       "Skew:                          -0.450   Prob(JB):                      0.00286\n",
       "Kurtosis:                       4.149   Cond. No.                         24.9\n",
       "==============================================================================\n",
       "\n",
       "Notes:\n",
       "[1] Standard Errors are heteroscedasticity and autocorrelation robust (HAC) using 12 lags and without small sample correction\n",
       "\"\"\""
      ]
     },
     "execution_count": 47,
     "metadata": {},
     "output_type": "execute_result"
    }
   ],
   "source": [
    "results_second.summary()"
   ]
  },
  {
   "cell_type": "markdown",
   "id": "49182d10",
   "metadata": {},
   "source": [
    "###  Fama-French 3 factors (2001-2010)"
   ]
  },
  {
   "cell_type": "code",
   "execution_count": 48,
   "id": "5c9b9fa7",
   "metadata": {
    "scrolled": true
   },
   "outputs": [],
   "source": [
    "X_second_3 = df_second[[\"mktrf\", \"smb\", \"hml\"]]\n",
    "X_second_3 = sm.add_constant(X_second_3)\n",
    "model_second_3 = sm.OLS(Y1_second, X_second_3[:120])\n",
    "results_second_3 = model_second_3.fit(cov_type='HAC',cov_kwds={'maxlags':12})"
   ]
  },
  {
   "cell_type": "code",
   "execution_count": 49,
   "id": "5b2d6037",
   "metadata": {},
   "outputs": [
    {
     "data": {
      "text/html": [
       "<table class=\"simpletable\">\n",
       "<caption>OLS Regression Results</caption>\n",
       "<tr>\n",
       "  <th>Dep. Variable:</th>           <td>ret</td>       <th>  R-squared:         </th> <td>   0.413</td>\n",
       "</tr>\n",
       "<tr>\n",
       "  <th>Model:</th>                   <td>OLS</td>       <th>  Adj. R-squared:    </th> <td>   0.398</td>\n",
       "</tr>\n",
       "<tr>\n",
       "  <th>Method:</th>             <td>Least Squares</td>  <th>  F-statistic:       </th> <td>   66.29</td>\n",
       "</tr>\n",
       "<tr>\n",
       "  <th>Date:</th>             <td>Sun, 05 Jun 2022</td> <th>  Prob (F-statistic):</th> <td>4.86e-25</td>\n",
       "</tr>\n",
       "<tr>\n",
       "  <th>Time:</th>                 <td>22:07:12</td>     <th>  Log-Likelihood:    </th> <td>  160.03</td>\n",
       "</tr>\n",
       "<tr>\n",
       "  <th>No. Observations:</th>      <td>   120</td>      <th>  AIC:               </th> <td>  -312.1</td>\n",
       "</tr>\n",
       "<tr>\n",
       "  <th>Df Residuals:</th>          <td>   116</td>      <th>  BIC:               </th> <td>  -300.9</td>\n",
       "</tr>\n",
       "<tr>\n",
       "  <th>Df Model:</th>              <td>     3</td>      <th>                     </th>     <td> </td>   \n",
       "</tr>\n",
       "<tr>\n",
       "  <th>Covariance Type:</th>         <td>HAC</td>       <th>                     </th>     <td> </td>   \n",
       "</tr>\n",
       "</table>\n",
       "<table class=\"simpletable\">\n",
       "<tr>\n",
       "    <td></td>       <th>coef</th>     <th>std err</th>      <th>z</th>      <th>P>|z|</th>  <th>[0.025</th>    <th>0.975]</th>  \n",
       "</tr>\n",
       "<tr>\n",
       "  <th>const</th> <td>    0.0250</td> <td>    0.006</td> <td>    4.029</td> <td> 0.000</td> <td>    0.013</td> <td>    0.037</td>\n",
       "</tr>\n",
       "<tr>\n",
       "  <th>mktrf</th> <td>    1.0103</td> <td>    0.122</td> <td>    8.298</td> <td> 0.000</td> <td>    0.772</td> <td>    1.249</td>\n",
       "</tr>\n",
       "<tr>\n",
       "  <th>smb</th>   <td>    0.3138</td> <td>    0.237</td> <td>    1.322</td> <td> 0.186</td> <td>   -0.152</td> <td>    0.779</td>\n",
       "</tr>\n",
       "<tr>\n",
       "  <th>hml</th>   <td>   -0.5816</td> <td>    0.171</td> <td>   -3.409</td> <td> 0.001</td> <td>   -0.916</td> <td>   -0.247</td>\n",
       "</tr>\n",
       "</table>\n",
       "<table class=\"simpletable\">\n",
       "<tr>\n",
       "  <th>Omnibus:</th>       <td> 9.638</td> <th>  Durbin-Watson:     </th> <td>   1.842</td>\n",
       "</tr>\n",
       "<tr>\n",
       "  <th>Prob(Omnibus):</th> <td> 0.008</td> <th>  Jarque-Bera (JB):  </th> <td>  10.513</td>\n",
       "</tr>\n",
       "<tr>\n",
       "  <th>Skew:</th>          <td> 0.534</td> <th>  Prob(JB):          </th> <td> 0.00521</td>\n",
       "</tr>\n",
       "<tr>\n",
       "  <th>Kurtosis:</th>      <td> 3.980</td> <th>  Cond. No.          </th> <td>    41.4</td>\n",
       "</tr>\n",
       "</table><br/><br/>Notes:<br/>[1] Standard Errors are heteroscedasticity and autocorrelation robust (HAC) using 12 lags and without small sample correction"
      ],
      "text/plain": [
       "<class 'statsmodels.iolib.summary.Summary'>\n",
       "\"\"\"\n",
       "                            OLS Regression Results                            \n",
       "==============================================================================\n",
       "Dep. Variable:                    ret   R-squared:                       0.413\n",
       "Model:                            OLS   Adj. R-squared:                  0.398\n",
       "Method:                 Least Squares   F-statistic:                     66.29\n",
       "Date:                Sun, 05 Jun 2022   Prob (F-statistic):           4.86e-25\n",
       "Time:                        22:07:12   Log-Likelihood:                 160.03\n",
       "No. Observations:                 120   AIC:                            -312.1\n",
       "Df Residuals:                     116   BIC:                            -300.9\n",
       "Df Model:                           3                                         \n",
       "Covariance Type:                  HAC                                         \n",
       "==============================================================================\n",
       "                 coef    std err          z      P>|z|      [0.025      0.975]\n",
       "------------------------------------------------------------------------------\n",
       "const          0.0250      0.006      4.029      0.000       0.013       0.037\n",
       "mktrf          1.0103      0.122      8.298      0.000       0.772       1.249\n",
       "smb            0.3138      0.237      1.322      0.186      -0.152       0.779\n",
       "hml           -0.5816      0.171     -3.409      0.001      -0.916      -0.247\n",
       "==============================================================================\n",
       "Omnibus:                        9.638   Durbin-Watson:                   1.842\n",
       "Prob(Omnibus):                  0.008   Jarque-Bera (JB):               10.513\n",
       "Skew:                           0.534   Prob(JB):                      0.00521\n",
       "Kurtosis:                       3.980   Cond. No.                         41.4\n",
       "==============================================================================\n",
       "\n",
       "Notes:\n",
       "[1] Standard Errors are heteroscedasticity and autocorrelation robust (HAC) using 12 lags and without small sample correction\n",
       "\"\"\""
      ]
     },
     "execution_count": 49,
     "metadata": {},
     "output_type": "execute_result"
    }
   ],
   "source": [
    "results_second_3.summary()"
   ]
  },
  {
   "cell_type": "markdown",
   "id": "8dc13016",
   "metadata": {},
   "source": [
    "###  Fama-French 3 factors (2011-2021)"
   ]
  },
  {
   "cell_type": "code",
   "execution_count": 50,
   "id": "4590b8a2",
   "metadata": {
    "scrolled": true
   },
   "outputs": [],
   "source": [
    "X_second_3 = df_second[[\"mktrf\", \"smb\", \"hml\"]]\n",
    "X_second_3 = sm.add_constant(X_second_3)\n",
    "model_second_3 = sm.OLS(Y2_second, X_second_3[120:])\n",
    "results_second_3 = model_second_3.fit(cov_type='HAC',cov_kwds={'maxlags':12})"
   ]
  },
  {
   "cell_type": "code",
   "execution_count": 51,
   "id": "3016ac65",
   "metadata": {},
   "outputs": [
    {
     "data": {
      "text/html": [
       "<table class=\"simpletable\">\n",
       "<caption>OLS Regression Results</caption>\n",
       "<tr>\n",
       "  <th>Dep. Variable:</th>           <td>ret</td>       <th>  R-squared:         </th> <td>   0.533</td>\n",
       "</tr>\n",
       "<tr>\n",
       "  <th>Model:</th>                   <td>OLS</td>       <th>  Adj. R-squared:    </th> <td>   0.522</td>\n",
       "</tr>\n",
       "<tr>\n",
       "  <th>Method:</th>             <td>Least Squares</td>  <th>  F-statistic:       </th> <td>   58.36</td>\n",
       "</tr>\n",
       "<tr>\n",
       "  <th>Date:</th>             <td>Sun, 05 Jun 2022</td> <th>  Prob (F-statistic):</th> <td>7.65e-24</td>\n",
       "</tr>\n",
       "<tr>\n",
       "  <th>Time:</th>                 <td>22:07:12</td>     <th>  Log-Likelihood:    </th> <td>  243.93</td>\n",
       "</tr>\n",
       "<tr>\n",
       "  <th>No. Observations:</th>      <td>   132</td>      <th>  AIC:               </th> <td>  -479.9</td>\n",
       "</tr>\n",
       "<tr>\n",
       "  <th>Df Residuals:</th>          <td>   128</td>      <th>  BIC:               </th> <td>  -468.3</td>\n",
       "</tr>\n",
       "<tr>\n",
       "  <th>Df Model:</th>              <td>     3</td>      <th>                     </th>     <td> </td>   \n",
       "</tr>\n",
       "<tr>\n",
       "  <th>Covariance Type:</th>         <td>HAC</td>       <th>                     </th>     <td> </td>   \n",
       "</tr>\n",
       "</table>\n",
       "<table class=\"simpletable\">\n",
       "<tr>\n",
       "    <td></td>       <th>coef</th>     <th>std err</th>      <th>z</th>      <th>P>|z|</th>  <th>[0.025</th>    <th>0.975]</th>  \n",
       "</tr>\n",
       "<tr>\n",
       "  <th>const</th> <td>    0.0042</td> <td>    0.004</td> <td>    1.157</td> <td> 0.247</td> <td>   -0.003</td> <td>    0.011</td>\n",
       "</tr>\n",
       "<tr>\n",
       "  <th>mktrf</th> <td>    1.0795</td> <td>    0.104</td> <td>   10.349</td> <td> 0.000</td> <td>    0.875</td> <td>    1.284</td>\n",
       "</tr>\n",
       "<tr>\n",
       "  <th>smb</th>   <td>   -0.3407</td> <td>    0.157</td> <td>   -2.173</td> <td> 0.030</td> <td>   -0.648</td> <td>   -0.033</td>\n",
       "</tr>\n",
       "<tr>\n",
       "  <th>hml</th>   <td>   -0.2233</td> <td>    0.122</td> <td>   -1.827</td> <td> 0.068</td> <td>   -0.463</td> <td>    0.016</td>\n",
       "</tr>\n",
       "</table>\n",
       "<table class=\"simpletable\">\n",
       "<tr>\n",
       "  <th>Omnibus:</th>       <td>13.847</td> <th>  Durbin-Watson:     </th> <td>   1.934</td>\n",
       "</tr>\n",
       "<tr>\n",
       "  <th>Prob(Omnibus):</th> <td> 0.001</td> <th>  Jarque-Bera (JB):  </th> <td>  20.645</td>\n",
       "</tr>\n",
       "<tr>\n",
       "  <th>Skew:</th>          <td>-0.539</td> <th>  Prob(JB):          </th> <td>3.29e-05</td>\n",
       "</tr>\n",
       "<tr>\n",
       "  <th>Kurtosis:</th>      <td> 4.609</td> <th>  Cond. No.          </th> <td>    48.1</td>\n",
       "</tr>\n",
       "</table><br/><br/>Notes:<br/>[1] Standard Errors are heteroscedasticity and autocorrelation robust (HAC) using 12 lags and without small sample correction"
      ],
      "text/plain": [
       "<class 'statsmodels.iolib.summary.Summary'>\n",
       "\"\"\"\n",
       "                            OLS Regression Results                            \n",
       "==============================================================================\n",
       "Dep. Variable:                    ret   R-squared:                       0.533\n",
       "Model:                            OLS   Adj. R-squared:                  0.522\n",
       "Method:                 Least Squares   F-statistic:                     58.36\n",
       "Date:                Sun, 05 Jun 2022   Prob (F-statistic):           7.65e-24\n",
       "Time:                        22:07:12   Log-Likelihood:                 243.93\n",
       "No. Observations:                 132   AIC:                            -479.9\n",
       "Df Residuals:                     128   BIC:                            -468.3\n",
       "Df Model:                           3                                         \n",
       "Covariance Type:                  HAC                                         \n",
       "==============================================================================\n",
       "                 coef    std err          z      P>|z|      [0.025      0.975]\n",
       "------------------------------------------------------------------------------\n",
       "const          0.0042      0.004      1.157      0.247      -0.003       0.011\n",
       "mktrf          1.0795      0.104     10.349      0.000       0.875       1.284\n",
       "smb           -0.3407      0.157     -2.173      0.030      -0.648      -0.033\n",
       "hml           -0.2233      0.122     -1.827      0.068      -0.463       0.016\n",
       "==============================================================================\n",
       "Omnibus:                       13.847   Durbin-Watson:                   1.934\n",
       "Prob(Omnibus):                  0.001   Jarque-Bera (JB):               20.645\n",
       "Skew:                          -0.539   Prob(JB):                     3.29e-05\n",
       "Kurtosis:                       4.609   Cond. No.                         48.1\n",
       "==============================================================================\n",
       "\n",
       "Notes:\n",
       "[1] Standard Errors are heteroscedasticity and autocorrelation robust (HAC) using 12 lags and without small sample correction\n",
       "\"\"\""
      ]
     },
     "execution_count": 51,
     "metadata": {},
     "output_type": "execute_result"
    }
   ],
   "source": [
    "results_second_3.summary()"
   ]
  },
  {
   "cell_type": "markdown",
   "id": "841985de",
   "metadata": {},
   "source": [
    "###  Fama-French 5 factors (2001-2010)"
   ]
  },
  {
   "cell_type": "code",
   "execution_count": 52,
   "id": "225f35da",
   "metadata": {
    "scrolled": true
   },
   "outputs": [],
   "source": [
    "X_second_5 = df_second[[\"mktrf\", \"smb\", \"hml\", \"rmw\", \"cma\"]]\n",
    "X_second_5 = sm.add_constant(X_second_5)\n",
    "model_second_5 = sm.OLS(Y1_second, X_second_5[:120])\n",
    "results_second_5 = model_second_5.fit(cov_type='HAC',cov_kwds={'maxlags':12})"
   ]
  },
  {
   "cell_type": "code",
   "execution_count": 53,
   "id": "9ac81575",
   "metadata": {},
   "outputs": [
    {
     "data": {
      "text/html": [
       "<table class=\"simpletable\">\n",
       "<caption>OLS Regression Results</caption>\n",
       "<tr>\n",
       "  <th>Dep. Variable:</th>           <td>ret</td>       <th>  R-squared:         </th> <td>   0.444</td>\n",
       "</tr>\n",
       "<tr>\n",
       "  <th>Model:</th>                   <td>OLS</td>       <th>  Adj. R-squared:    </th> <td>   0.419</td>\n",
       "</tr>\n",
       "<tr>\n",
       "  <th>Method:</th>             <td>Least Squares</td>  <th>  F-statistic:       </th> <td>   32.48</td>\n",
       "</tr>\n",
       "<tr>\n",
       "  <th>Date:</th>             <td>Sun, 05 Jun 2022</td> <th>  Prob (F-statistic):</th> <td>1.83e-20</td>\n",
       "</tr>\n",
       "<tr>\n",
       "  <th>Time:</th>                 <td>22:07:12</td>     <th>  Log-Likelihood:    </th> <td>  163.27</td>\n",
       "</tr>\n",
       "<tr>\n",
       "  <th>No. Observations:</th>      <td>   120</td>      <th>  AIC:               </th> <td>  -314.5</td>\n",
       "</tr>\n",
       "<tr>\n",
       "  <th>Df Residuals:</th>          <td>   114</td>      <th>  BIC:               </th> <td>  -297.8</td>\n",
       "</tr>\n",
       "<tr>\n",
       "  <th>Df Model:</th>              <td>     5</td>      <th>                     </th>     <td> </td>   \n",
       "</tr>\n",
       "<tr>\n",
       "  <th>Covariance Type:</th>         <td>HAC</td>       <th>                     </th>     <td> </td>   \n",
       "</tr>\n",
       "</table>\n",
       "<table class=\"simpletable\">\n",
       "<tr>\n",
       "    <td></td>       <th>coef</th>     <th>std err</th>      <th>z</th>      <th>P>|z|</th>  <th>[0.025</th>    <th>0.975]</th>  \n",
       "</tr>\n",
       "<tr>\n",
       "  <th>const</th> <td>    0.0268</td> <td>    0.005</td> <td>    4.979</td> <td> 0.000</td> <td>    0.016</td> <td>    0.037</td>\n",
       "</tr>\n",
       "<tr>\n",
       "  <th>mktrf</th> <td>    0.9492</td> <td>    0.199</td> <td>    4.759</td> <td> 0.000</td> <td>    0.558</td> <td>    1.340</td>\n",
       "</tr>\n",
       "<tr>\n",
       "  <th>smb</th>   <td>    0.3612</td> <td>    0.216</td> <td>    1.671</td> <td> 0.095</td> <td>   -0.062</td> <td>    0.785</td>\n",
       "</tr>\n",
       "<tr>\n",
       "  <th>hml</th>   <td>   -0.2784</td> <td>    0.274</td> <td>   -1.015</td> <td> 0.310</td> <td>   -0.816</td> <td>    0.259</td>\n",
       "</tr>\n",
       "<tr>\n",
       "  <th>rmw</th>   <td>    0.0391</td> <td>    0.229</td> <td>    0.171</td> <td> 0.865</td> <td>   -0.410</td> <td>    0.489</td>\n",
       "</tr>\n",
       "<tr>\n",
       "  <th>cma</th>   <td>   -0.8554</td> <td>    0.267</td> <td>   -3.203</td> <td> 0.001</td> <td>   -1.379</td> <td>   -0.332</td>\n",
       "</tr>\n",
       "</table>\n",
       "<table class=\"simpletable\">\n",
       "<tr>\n",
       "  <th>Omnibus:</th>       <td> 9.900</td> <th>  Durbin-Watson:     </th> <td>   1.868</td>\n",
       "</tr>\n",
       "<tr>\n",
       "  <th>Prob(Omnibus):</th> <td> 0.007</td> <th>  Jarque-Bera (JB):  </th> <td>  11.479</td>\n",
       "</tr>\n",
       "<tr>\n",
       "  <th>Skew:</th>          <td> 0.512</td> <th>  Prob(JB):          </th> <td> 0.00322</td>\n",
       "</tr>\n",
       "<tr>\n",
       "  <th>Kurtosis:</th>      <td> 4.116</td> <th>  Cond. No.          </th> <td>    67.2</td>\n",
       "</tr>\n",
       "</table><br/><br/>Notes:<br/>[1] Standard Errors are heteroscedasticity and autocorrelation robust (HAC) using 12 lags and without small sample correction"
      ],
      "text/plain": [
       "<class 'statsmodels.iolib.summary.Summary'>\n",
       "\"\"\"\n",
       "                            OLS Regression Results                            \n",
       "==============================================================================\n",
       "Dep. Variable:                    ret   R-squared:                       0.444\n",
       "Model:                            OLS   Adj. R-squared:                  0.419\n",
       "Method:                 Least Squares   F-statistic:                     32.48\n",
       "Date:                Sun, 05 Jun 2022   Prob (F-statistic):           1.83e-20\n",
       "Time:                        22:07:12   Log-Likelihood:                 163.27\n",
       "No. Observations:                 120   AIC:                            -314.5\n",
       "Df Residuals:                     114   BIC:                            -297.8\n",
       "Df Model:                           5                                         \n",
       "Covariance Type:                  HAC                                         \n",
       "==============================================================================\n",
       "                 coef    std err          z      P>|z|      [0.025      0.975]\n",
       "------------------------------------------------------------------------------\n",
       "const          0.0268      0.005      4.979      0.000       0.016       0.037\n",
       "mktrf          0.9492      0.199      4.759      0.000       0.558       1.340\n",
       "smb            0.3612      0.216      1.671      0.095      -0.062       0.785\n",
       "hml           -0.2784      0.274     -1.015      0.310      -0.816       0.259\n",
       "rmw            0.0391      0.229      0.171      0.865      -0.410       0.489\n",
       "cma           -0.8554      0.267     -3.203      0.001      -1.379      -0.332\n",
       "==============================================================================\n",
       "Omnibus:                        9.900   Durbin-Watson:                   1.868\n",
       "Prob(Omnibus):                  0.007   Jarque-Bera (JB):               11.479\n",
       "Skew:                           0.512   Prob(JB):                      0.00322\n",
       "Kurtosis:                       4.116   Cond. No.                         67.2\n",
       "==============================================================================\n",
       "\n",
       "Notes:\n",
       "[1] Standard Errors are heteroscedasticity and autocorrelation robust (HAC) using 12 lags and without small sample correction\n",
       "\"\"\""
      ]
     },
     "execution_count": 53,
     "metadata": {},
     "output_type": "execute_result"
    }
   ],
   "source": [
    "results_second_5.summary()"
   ]
  },
  {
   "cell_type": "markdown",
   "id": "c74c88ca",
   "metadata": {},
   "source": [
    "###  Fama-French 5 factors (2011-2021)"
   ]
  },
  {
   "cell_type": "code",
   "execution_count": 54,
   "id": "61192b42",
   "metadata": {
    "scrolled": true
   },
   "outputs": [],
   "source": [
    "X_second_5 = df_second[[\"mktrf\", \"smb\", \"hml\", \"rmw\", \"cma\"]]\n",
    "X_second_5 = sm.add_constant(X_second_5)\n",
    "model_second_5 = sm.OLS(Y2_second, X_second_5[120:])\n",
    "results_second_5 = model_second_5.fit(cov_type='HAC',cov_kwds={'maxlags':12})"
   ]
  },
  {
   "cell_type": "code",
   "execution_count": 55,
   "id": "6d7e5a78",
   "metadata": {},
   "outputs": [
    {
     "data": {
      "text/html": [
       "<table class=\"simpletable\">\n",
       "<caption>OLS Regression Results</caption>\n",
       "<tr>\n",
       "  <th>Dep. Variable:</th>           <td>ret</td>       <th>  R-squared:         </th> <td>   0.573</td>\n",
       "</tr>\n",
       "<tr>\n",
       "  <th>Model:</th>                   <td>OLS</td>       <th>  Adj. R-squared:    </th> <td>   0.556</td>\n",
       "</tr>\n",
       "<tr>\n",
       "  <th>Method:</th>             <td>Least Squares</td>  <th>  F-statistic:       </th> <td>   75.53</td>\n",
       "</tr>\n",
       "<tr>\n",
       "  <th>Date:</th>             <td>Sun, 05 Jun 2022</td> <th>  Prob (F-statistic):</th> <td>3.12e-36</td>\n",
       "</tr>\n",
       "<tr>\n",
       "  <th>Time:</th>                 <td>22:07:12</td>     <th>  Log-Likelihood:    </th> <td>  249.84</td>\n",
       "</tr>\n",
       "<tr>\n",
       "  <th>No. Observations:</th>      <td>   132</td>      <th>  AIC:               </th> <td>  -487.7</td>\n",
       "</tr>\n",
       "<tr>\n",
       "  <th>Df Residuals:</th>          <td>   126</td>      <th>  BIC:               </th> <td>  -470.4</td>\n",
       "</tr>\n",
       "<tr>\n",
       "  <th>Df Model:</th>              <td>     5</td>      <th>                     </th>     <td> </td>   \n",
       "</tr>\n",
       "<tr>\n",
       "  <th>Covariance Type:</th>         <td>HAC</td>       <th>                     </th>     <td> </td>   \n",
       "</tr>\n",
       "</table>\n",
       "<table class=\"simpletable\">\n",
       "<tr>\n",
       "    <td></td>       <th>coef</th>     <th>std err</th>      <th>z</th>      <th>P>|z|</th>  <th>[0.025</th>    <th>0.975]</th>  \n",
       "</tr>\n",
       "<tr>\n",
       "  <th>const</th> <td>    0.0027</td> <td>    0.003</td> <td>    0.892</td> <td> 0.373</td> <td>   -0.003</td> <td>    0.009</td>\n",
       "</tr>\n",
       "<tr>\n",
       "  <th>mktrf</th> <td>    1.0438</td> <td>    0.092</td> <td>   11.318</td> <td> 0.000</td> <td>    0.863</td> <td>    1.225</td>\n",
       "</tr>\n",
       "<tr>\n",
       "  <th>smb</th>   <td>   -0.0852</td> <td>    0.162</td> <td>   -0.527</td> <td> 0.598</td> <td>   -0.402</td> <td>    0.231</td>\n",
       "</tr>\n",
       "<tr>\n",
       "  <th>hml</th>   <td>   -0.3017</td> <td>    0.148</td> <td>   -2.042</td> <td> 0.041</td> <td>   -0.591</td> <td>   -0.012</td>\n",
       "</tr>\n",
       "<tr>\n",
       "  <th>rmw</th>   <td>    0.6765</td> <td>    0.217</td> <td>    3.120</td> <td> 0.002</td> <td>    0.252</td> <td>    1.101</td>\n",
       "</tr>\n",
       "<tr>\n",
       "  <th>cma</th>   <td>   -0.0691</td> <td>    0.364</td> <td>   -0.190</td> <td> 0.849</td> <td>   -0.782</td> <td>    0.644</td>\n",
       "</tr>\n",
       "</table>\n",
       "<table class=\"simpletable\">\n",
       "<tr>\n",
       "  <th>Omnibus:</th>       <td> 6.057</td> <th>  Durbin-Watson:     </th> <td>   1.967</td>\n",
       "</tr>\n",
       "<tr>\n",
       "  <th>Prob(Omnibus):</th> <td> 0.048</td> <th>  Jarque-Bera (JB):  </th> <td>   6.580</td>\n",
       "</tr>\n",
       "<tr>\n",
       "  <th>Skew:</th>          <td>-0.322</td> <th>  Prob(JB):          </th> <td>  0.0373</td>\n",
       "</tr>\n",
       "<tr>\n",
       "  <th>Kurtosis:</th>      <td> 3.884</td> <th>  Cond. No.          </th> <td>    81.2</td>\n",
       "</tr>\n",
       "</table><br/><br/>Notes:<br/>[1] Standard Errors are heteroscedasticity and autocorrelation robust (HAC) using 12 lags and without small sample correction"
      ],
      "text/plain": [
       "<class 'statsmodels.iolib.summary.Summary'>\n",
       "\"\"\"\n",
       "                            OLS Regression Results                            \n",
       "==============================================================================\n",
       "Dep. Variable:                    ret   R-squared:                       0.573\n",
       "Model:                            OLS   Adj. R-squared:                  0.556\n",
       "Method:                 Least Squares   F-statistic:                     75.53\n",
       "Date:                Sun, 05 Jun 2022   Prob (F-statistic):           3.12e-36\n",
       "Time:                        22:07:12   Log-Likelihood:                 249.84\n",
       "No. Observations:                 132   AIC:                            -487.7\n",
       "Df Residuals:                     126   BIC:                            -470.4\n",
       "Df Model:                           5                                         \n",
       "Covariance Type:                  HAC                                         \n",
       "==============================================================================\n",
       "                 coef    std err          z      P>|z|      [0.025      0.975]\n",
       "------------------------------------------------------------------------------\n",
       "const          0.0027      0.003      0.892      0.373      -0.003       0.009\n",
       "mktrf          1.0438      0.092     11.318      0.000       0.863       1.225\n",
       "smb           -0.0852      0.162     -0.527      0.598      -0.402       0.231\n",
       "hml           -0.3017      0.148     -2.042      0.041      -0.591      -0.012\n",
       "rmw            0.6765      0.217      3.120      0.002       0.252       1.101\n",
       "cma           -0.0691      0.364     -0.190      0.849      -0.782       0.644\n",
       "==============================================================================\n",
       "Omnibus:                        6.057   Durbin-Watson:                   1.967\n",
       "Prob(Omnibus):                  0.048   Jarque-Bera (JB):                6.580\n",
       "Skew:                          -0.322   Prob(JB):                       0.0373\n",
       "Kurtosis:                       3.884   Cond. No.                         81.2\n",
       "==============================================================================\n",
       "\n",
       "Notes:\n",
       "[1] Standard Errors are heteroscedasticity and autocorrelation robust (HAC) using 12 lags and without small sample correction\n",
       "\"\"\""
      ]
     },
     "execution_count": 55,
     "metadata": {},
     "output_type": "execute_result"
    }
   ],
   "source": [
    "results_second_5.summary()"
   ]
  },
  {
   "cell_type": "markdown",
   "id": "5bf99417",
   "metadata": {},
   "source": [
    "## Summary of Alphas"
   ]
  },
  {
   "cell_type": "code",
   "execution_count": 56,
   "id": "9f620a67",
   "metadata": {},
   "outputs": [
    {
     "data": {
      "text/html": [
       "<div>\n",
       "<style scoped>\n",
       "    .dataframe tbody tr th:only-of-type {\n",
       "        vertical-align: middle;\n",
       "    }\n",
       "\n",
       "    .dataframe tbody tr th {\n",
       "        vertical-align: top;\n",
       "    }\n",
       "\n",
       "    .dataframe thead th {\n",
       "        text-align: right;\n",
       "    }\n",
       "</style>\n",
       "<table border=\"1\" class=\"dataframe\">\n",
       "  <thead>\n",
       "    <tr style=\"text-align: right;\">\n",
       "      <th></th>\n",
       "      <th>Portflio1 (2001-10)</th>\n",
       "      <th>Portflio1 (2011-21)</th>\n",
       "      <th>Portflio2 (2001-10)</th>\n",
       "      <th>Portflio2 (2011-21)</th>\n",
       "    </tr>\n",
       "  </thead>\n",
       "  <tbody>\n",
       "    <tr>\n",
       "      <th>Market Premium</th>\n",
       "      <td>1.08%</td>\n",
       "      <td>0.32%</td>\n",
       "      <td>2.54%</td>\n",
       "      <td>0.63%</td>\n",
       "    </tr>\n",
       "    <tr>\n",
       "      <th>Fama-French 3 Factors</th>\n",
       "      <td>1.07%</td>\n",
       "      <td>0.29%</td>\n",
       "      <td>2.50%</td>\n",
       "      <td>0.42%</td>\n",
       "    </tr>\n",
       "    <tr>\n",
       "      <th>Fama-French 5 Factors</th>\n",
       "      <td>1.43%</td>\n",
       "      <td>0.31%</td>\n",
       "      <td>2.68%</td>\n",
       "      <td>0.27%</td>\n",
       "    </tr>\n",
       "  </tbody>\n",
       "</table>\n",
       "</div>"
      ],
      "text/plain": [
       "                      Portflio1 (2001-10) Portflio1 (2011-21)  \\\n",
       "Market Premium                      1.08%               0.32%   \n",
       "Fama-French 3 Factors               1.07%               0.29%   \n",
       "Fama-French 5 Factors               1.43%               0.31%   \n",
       "\n",
       "                      Portflio2 (2001-10) Portflio2 (2011-21)  \n",
       "Market Premium                      2.54%               0.63%  \n",
       "Fama-French 3 Factors               2.50%               0.42%  \n",
       "Fama-French 5 Factors               2.68%               0.27%  "
      ]
     },
     "execution_count": 56,
     "metadata": {},
     "output_type": "execute_result"
    }
   ],
   "source": [
    "df = pd.DataFrame([(\"1.08%\", \"0.32%\", \"2.54%\", \"0.63%\"),\n",
    "                   (\"1.07%\", \"0.29%\", \"2.50%\", \"0.42%\"),\n",
    "                   (\"1.43%\", \"0.31%\", \"2.68%\", \"0.27%\")],\n",
    "                  index=[\"Market Premium\", \"Fama-French 3 Factors\", \"Fama-French 5 Factors\"],\n",
    "                  columns=(\"Portflio1 (2001-10)\", \"Portflio1 (2011-21)\", \"Portflio2 (2001-10)\", \"Portflio2 (2011-21)\"))\n",
    "df"
   ]
  },
  {
   "cell_type": "markdown",
   "id": "b9f6e5ff",
   "metadata": {},
   "source": [
    "## Result"
   ]
  },
  {
   "cell_type": "markdown",
   "id": "4c5c1065",
   "metadata": {},
   "source": [
    "With the above coefficients and intercepts, we may know that the alphas between two periods (2001-2010 and 2011-2021) decrease for all three regression models whether it’s equally weighted portfolio or tangency portfolio. We can interpret that the stock market may gradually become efficient with time passing, which makes a long position generates less alpha in a long run. However, the tangency portfolio generates more alpha than the equally weighted one. It may be resulted by AAPL since it generates more alpha than the average of all stocks, and AAPL takes up to 62% for the portfolio.\n"
   ]
  }
 ],
 "metadata": {
  "kernelspec": {
   "display_name": "Python 3 (ipykernel)",
   "language": "python",
   "name": "python3"
  },
  "language_info": {
   "codemirror_mode": {
    "name": "ipython",
    "version": 3
   },
   "file_extension": ".py",
   "mimetype": "text/x-python",
   "name": "python",
   "nbconvert_exporter": "python",
   "pygments_lexer": "ipython3",
   "version": "3.9.7"
  }
 },
 "nbformat": 4,
 "nbformat_minor": 5
}
