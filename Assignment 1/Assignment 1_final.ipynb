{
 "cells": [
  {
   "cell_type": "markdown",
   "id": "5f241bf3",
   "metadata": {},
   "source": [
    "# Preparation"
   ]
  },
  {
   "cell_type": "code",
   "execution_count": 1,
   "id": "e11b72d9",
   "metadata": {},
   "outputs": [],
   "source": [
    "import pandas as pd\n",
    "import statsmodels.api as sm\n",
    "from statsmodels.stats.diagnostic import het_white\n",
    "import numpy as np"
   ]
  },
  {
   "cell_type": "code",
   "execution_count": 2,
   "id": "7ec84b5a",
   "metadata": {},
   "outputs": [],
   "source": [
    "temp = pd.read_stata('Assignment_1(STAR).dta')"
   ]
  },
  {
   "cell_type": "code",
   "execution_count": 3,
   "id": "1eb9b0de",
   "metadata": {},
   "outputs": [],
   "source": [
    "df = temp[[\"dist_cod\", \"county\", \"district\", \"enrl_tot\", \"teachers\", \"computer\", \"testscr\", \"comp_stu\", \"expn_stu\", \"str\", \"avginc\", \"el_pct\", \"read_scr\", \"math_scr\"]]"
   ]
  },
  {
   "cell_type": "code",
   "execution_count": 4,
   "id": "bd900617",
   "metadata": {},
   "outputs": [
    {
     "data": {
      "text/html": [
       "<div>\n",
       "<style scoped>\n",
       "    .dataframe tbody tr th:only-of-type {\n",
       "        vertical-align: middle;\n",
       "    }\n",
       "\n",
       "    .dataframe tbody tr th {\n",
       "        vertical-align: top;\n",
       "    }\n",
       "\n",
       "    .dataframe thead th {\n",
       "        text-align: right;\n",
       "    }\n",
       "</style>\n",
       "<table border=\"1\" class=\"dataframe\">\n",
       "  <thead>\n",
       "    <tr style=\"text-align: right;\">\n",
       "      <th></th>\n",
       "      <th>dist_cod</th>\n",
       "      <th>county</th>\n",
       "      <th>district</th>\n",
       "      <th>enrl_tot</th>\n",
       "      <th>teachers</th>\n",
       "      <th>computer</th>\n",
       "      <th>testscr</th>\n",
       "      <th>comp_stu</th>\n",
       "      <th>expn_stu</th>\n",
       "      <th>str</th>\n",
       "      <th>avginc</th>\n",
       "      <th>el_pct</th>\n",
       "      <th>read_scr</th>\n",
       "      <th>math_scr</th>\n",
       "    </tr>\n",
       "  </thead>\n",
       "  <tbody>\n",
       "    <tr>\n",
       "      <th>0</th>\n",
       "      <td>75119.0</td>\n",
       "      <td>Alameda</td>\n",
       "      <td>Sunol Glen Unified</td>\n",
       "      <td>195.0</td>\n",
       "      <td>10.900000</td>\n",
       "      <td>67.0</td>\n",
       "      <td>690.799988</td>\n",
       "      <td>0.343590</td>\n",
       "      <td>6384.911133</td>\n",
       "      <td>17.889910</td>\n",
       "      <td>22.690001</td>\n",
       "      <td>0.000000</td>\n",
       "      <td>691.599976</td>\n",
       "      <td>690.000000</td>\n",
       "    </tr>\n",
       "    <tr>\n",
       "      <th>1</th>\n",
       "      <td>61499.0</td>\n",
       "      <td>Butte</td>\n",
       "      <td>Manzanita Elementary</td>\n",
       "      <td>240.0</td>\n",
       "      <td>11.150000</td>\n",
       "      <td>101.0</td>\n",
       "      <td>661.200012</td>\n",
       "      <td>0.420833</td>\n",
       "      <td>5099.380859</td>\n",
       "      <td>21.524664</td>\n",
       "      <td>9.824000</td>\n",
       "      <td>4.583333</td>\n",
       "      <td>660.500000</td>\n",
       "      <td>661.900024</td>\n",
       "    </tr>\n",
       "    <tr>\n",
       "      <th>2</th>\n",
       "      <td>61549.0</td>\n",
       "      <td>Butte</td>\n",
       "      <td>Thermalito Union Elementary</td>\n",
       "      <td>1550.0</td>\n",
       "      <td>82.900002</td>\n",
       "      <td>169.0</td>\n",
       "      <td>643.599976</td>\n",
       "      <td>0.109032</td>\n",
       "      <td>5501.954590</td>\n",
       "      <td>18.697226</td>\n",
       "      <td>8.978000</td>\n",
       "      <td>30.000002</td>\n",
       "      <td>636.299988</td>\n",
       "      <td>650.900024</td>\n",
       "    </tr>\n",
       "    <tr>\n",
       "      <th>3</th>\n",
       "      <td>61457.0</td>\n",
       "      <td>Butte</td>\n",
       "      <td>Golden Feather Union Elementary</td>\n",
       "      <td>243.0</td>\n",
       "      <td>14.000000</td>\n",
       "      <td>85.0</td>\n",
       "      <td>647.700012</td>\n",
       "      <td>0.349794</td>\n",
       "      <td>7101.831055</td>\n",
       "      <td>17.357143</td>\n",
       "      <td>8.978000</td>\n",
       "      <td>0.000000</td>\n",
       "      <td>651.900024</td>\n",
       "      <td>643.500000</td>\n",
       "    </tr>\n",
       "    <tr>\n",
       "      <th>4</th>\n",
       "      <td>61523.0</td>\n",
       "      <td>Butte</td>\n",
       "      <td>Palermo Union Elementary</td>\n",
       "      <td>1335.0</td>\n",
       "      <td>71.500000</td>\n",
       "      <td>171.0</td>\n",
       "      <td>640.849976</td>\n",
       "      <td>0.128090</td>\n",
       "      <td>5235.987793</td>\n",
       "      <td>18.671329</td>\n",
       "      <td>9.080333</td>\n",
       "      <td>13.857677</td>\n",
       "      <td>641.799988</td>\n",
       "      <td>639.900024</td>\n",
       "    </tr>\n",
       "  </tbody>\n",
       "</table>\n",
       "</div>"
      ],
      "text/plain": [
       "   dist_cod   county                         district  enrl_tot   teachers  \\\n",
       "0   75119.0  Alameda               Sunol Glen Unified     195.0  10.900000   \n",
       "1   61499.0    Butte             Manzanita Elementary     240.0  11.150000   \n",
       "2   61549.0    Butte      Thermalito Union Elementary    1550.0  82.900002   \n",
       "3   61457.0    Butte  Golden Feather Union Elementary     243.0  14.000000   \n",
       "4   61523.0    Butte         Palermo Union Elementary    1335.0  71.500000   \n",
       "\n",
       "   computer     testscr  comp_stu     expn_stu        str     avginc  \\\n",
       "0      67.0  690.799988  0.343590  6384.911133  17.889910  22.690001   \n",
       "1     101.0  661.200012  0.420833  5099.380859  21.524664   9.824000   \n",
       "2     169.0  643.599976  0.109032  5501.954590  18.697226   8.978000   \n",
       "3      85.0  647.700012  0.349794  7101.831055  17.357143   8.978000   \n",
       "4     171.0  640.849976  0.128090  5235.987793  18.671329   9.080333   \n",
       "\n",
       "      el_pct    read_scr    math_scr  \n",
       "0   0.000000  691.599976  690.000000  \n",
       "1   4.583333  660.500000  661.900024  \n",
       "2  30.000002  636.299988  650.900024  \n",
       "3   0.000000  651.900024  643.500000  \n",
       "4  13.857677  641.799988  639.900024  "
      ]
     },
     "execution_count": 4,
     "metadata": {},
     "output_type": "execute_result"
    }
   ],
   "source": [
    "df.head()"
   ]
  },
  {
   "cell_type": "markdown",
   "id": "a4fdbd0e",
   "metadata": {},
   "source": [
    "# Q1: \n",
    "CLRM assumptions A1-A6:\n",
    "1. Linearity in Parameters\n",
    "2. Random Sampling\n",
    "3. Variation in X\n",
    "4. Zero conditional mean\n",
    "5. Homoskedasticity\n",
    "6. Normality\n",
    "\n",
    "OLS estimators requirements:\n",
    "\n",
    "**1) unbiased:** If our linear regression model follows A1-A4 it should be unbiased.\n",
    "\n",
    "**2) BLUE:** A1-A5 If our linear regression model follows A1-A5 it should be BLUE.\n",
    "\n",
    "**3) BUE:** A1-A6 If our linear regression model follows A1-A6 it should be BUE."
   ]
  },
  {
   "cell_type": "markdown",
   "id": "9e3e97aa",
   "metadata": {},
   "source": [
    "# Q2:"
   ]
  },
  {
   "cell_type": "code",
   "execution_count": 17,
   "id": "8b5248e9",
   "metadata": {},
   "outputs": [],
   "source": [
    "Y = df[\"testscr\"]\n",
    "X = df[\"str\"]\n",
    "X = sm.add_constant(X)\n",
    "model = sm.OLS(Y, X)\n",
    "results = model.fit()"
   ]
  },
  {
   "cell_type": "code",
   "execution_count": 6,
   "id": "2b5310df",
   "metadata": {},
   "outputs": [
    {
     "data": {
      "text/html": [
       "<table class=\"simpletable\">\n",
       "<caption>OLS Regression Results</caption>\n",
       "<tr>\n",
       "  <th>Dep. Variable:</th>         <td>testscr</td>     <th>  R-squared:         </th> <td>   0.051</td>\n",
       "</tr>\n",
       "<tr>\n",
       "  <th>Model:</th>                   <td>OLS</td>       <th>  Adj. R-squared:    </th> <td>   0.049</td>\n",
       "</tr>\n",
       "<tr>\n",
       "  <th>Method:</th>             <td>Least Squares</td>  <th>  F-statistic:       </th> <td>   22.58</td>\n",
       "</tr>\n",
       "<tr>\n",
       "  <th>Date:</th>             <td>Wed, 27 Apr 2022</td> <th>  Prob (F-statistic):</th> <td>2.78e-06</td>\n",
       "</tr>\n",
       "<tr>\n",
       "  <th>Time:</th>                 <td>20:41:29</td>     <th>  Log-Likelihood:    </th> <td> -1822.2</td>\n",
       "</tr>\n",
       "<tr>\n",
       "  <th>No. Observations:</th>      <td>   420</td>      <th>  AIC:               </th> <td>   3648.</td>\n",
       "</tr>\n",
       "<tr>\n",
       "  <th>Df Residuals:</th>          <td>   418</td>      <th>  BIC:               </th> <td>   3657.</td>\n",
       "</tr>\n",
       "<tr>\n",
       "  <th>Df Model:</th>              <td>     1</td>      <th>                     </th>     <td> </td>   \n",
       "</tr>\n",
       "<tr>\n",
       "  <th>Covariance Type:</th>      <td>nonrobust</td>    <th>                     </th>     <td> </td>   \n",
       "</tr>\n",
       "</table>\n",
       "<table class=\"simpletable\">\n",
       "<tr>\n",
       "    <td></td>       <th>coef</th>     <th>std err</th>      <th>t</th>      <th>P>|t|</th>  <th>[0.025</th>    <th>0.975]</th>  \n",
       "</tr>\n",
       "<tr>\n",
       "  <th>const</th> <td>  698.9330</td> <td>    9.467</td> <td>   73.825</td> <td> 0.000</td> <td>  680.323</td> <td>  717.543</td>\n",
       "</tr>\n",
       "<tr>\n",
       "  <th>str</th>   <td>   -2.2798</td> <td>    0.480</td> <td>   -4.751</td> <td> 0.000</td> <td>   -3.223</td> <td>   -1.337</td>\n",
       "</tr>\n",
       "</table>\n",
       "<table class=\"simpletable\">\n",
       "<tr>\n",
       "  <th>Omnibus:</th>       <td> 5.390</td> <th>  Durbin-Watson:     </th> <td>   0.129</td>\n",
       "</tr>\n",
       "<tr>\n",
       "  <th>Prob(Omnibus):</th> <td> 0.068</td> <th>  Jarque-Bera (JB):  </th> <td>   3.589</td>\n",
       "</tr>\n",
       "<tr>\n",
       "  <th>Skew:</th>          <td>-0.012</td> <th>  Prob(JB):          </th> <td>   0.166</td>\n",
       "</tr>\n",
       "<tr>\n",
       "  <th>Kurtosis:</th>      <td> 2.548</td> <th>  Cond. No.          </th> <td>    207.</td>\n",
       "</tr>\n",
       "</table><br/><br/>Notes:<br/>[1] Standard Errors assume that the covariance matrix of the errors is correctly specified."
      ],
      "text/plain": [
       "<class 'statsmodels.iolib.summary.Summary'>\n",
       "\"\"\"\n",
       "                            OLS Regression Results                            \n",
       "==============================================================================\n",
       "Dep. Variable:                testscr   R-squared:                       0.051\n",
       "Model:                            OLS   Adj. R-squared:                  0.049\n",
       "Method:                 Least Squares   F-statistic:                     22.58\n",
       "Date:                Wed, 27 Apr 2022   Prob (F-statistic):           2.78e-06\n",
       "Time:                        20:41:29   Log-Likelihood:                -1822.2\n",
       "No. Observations:                 420   AIC:                             3648.\n",
       "Df Residuals:                     418   BIC:                             3657.\n",
       "Df Model:                           1                                         \n",
       "Covariance Type:            nonrobust                                         \n",
       "==============================================================================\n",
       "                 coef    std err          t      P>|t|      [0.025      0.975]\n",
       "------------------------------------------------------------------------------\n",
       "const        698.9330      9.467     73.825      0.000     680.323     717.543\n",
       "str           -2.2798      0.480     -4.751      0.000      -3.223      -1.337\n",
       "==============================================================================\n",
       "Omnibus:                        5.390   Durbin-Watson:                   0.129\n",
       "Prob(Omnibus):                  0.068   Jarque-Bera (JB):                3.589\n",
       "Skew:                          -0.012   Prob(JB):                        0.166\n",
       "Kurtosis:                       2.548   Cond. No.                         207.\n",
       "==============================================================================\n",
       "\n",
       "Notes:\n",
       "[1] Standard Errors assume that the covariance matrix of the errors is correctly specified.\n",
       "\"\"\""
      ]
     },
     "execution_count": 6,
     "metadata": {},
     "output_type": "execute_result"
    }
   ],
   "source": [
    "results.summary()"
   ]
  },
  {
   "cell_type": "markdown",
   "id": "1a5561db",
   "metadata": {},
   "source": [
    "$SE(\\beta_{0})$ = 9.467\n",
    "\n",
    "$SE(\\beta_{1})$ = 0.48"
   ]
  },
  {
   "cell_type": "markdown",
   "id": "ab1ee036",
   "metadata": {},
   "source": [
    "# Q3: $\\beta_{1}$ estimates"
   ]
  },
  {
   "cell_type": "markdown",
   "id": "8ddcc1a8",
   "metadata": {},
   "source": [
    "## $t$-statistic = -4.751"
   ]
  },
  {
   "cell_type": "code",
   "execution_count": 7,
   "id": "206ca9d4",
   "metadata": {},
   "outputs": [
    {
     "data": {
      "text/plain": [
       "const    73.824514\n",
       "str      -4.751327\n",
       "dtype: float64"
      ]
     },
     "execution_count": 7,
     "metadata": {},
     "output_type": "execute_result"
    }
   ],
   "source": [
    "results.tvalues"
   ]
  },
  {
   "cell_type": "markdown",
   "id": "d85b5cf1",
   "metadata": {},
   "source": [
    "## $p$-value = 0.000"
   ]
  },
  {
   "cell_type": "code",
   "execution_count": 8,
   "id": "aa1c013a",
   "metadata": {},
   "outputs": [
    {
     "data": {
      "text/plain": [
       "const    6.569925e-242\n",
       "str       2.783307e-06\n",
       "dtype: float64"
      ]
     },
     "execution_count": 8,
     "metadata": {},
     "output_type": "execute_result"
    }
   ],
   "source": [
    "results.pvalues"
   ]
  },
  {
   "cell_type": "markdown",
   "id": "221aad56",
   "metadata": {},
   "source": [
    "##  Inference\n",
    "\n",
    "$H_{0}$: $\\beta_{1}$ = 0\n",
    "\n",
    "Since the p-value is less than 0.05, we reject the null hypothesis."
   ]
  },
  {
   "cell_type": "markdown",
   "id": "83c02aaf",
   "metadata": {},
   "source": [
    "# Q4: "
   ]
  },
  {
   "cell_type": "markdown",
   "id": "feae5820",
   "metadata": {},
   "source": [
    "HC0: White's (1980) heteroskedasticity robust standard errors"
   ]
  },
  {
   "cell_type": "code",
   "execution_count": 9,
   "id": "3af23205",
   "metadata": {},
   "outputs": [],
   "source": [
    "results_hetero = model.fit(cov_type='HC0')"
   ]
  },
  {
   "cell_type": "code",
   "execution_count": 10,
   "id": "41d398ae",
   "metadata": {
    "scrolled": true
   },
   "outputs": [
    {
     "data": {
      "text/html": [
       "<table class=\"simpletable\">\n",
       "<caption>OLS Regression Results</caption>\n",
       "<tr>\n",
       "  <th>Dep. Variable:</th>         <td>testscr</td>     <th>  R-squared:         </th> <td>   0.051</td>\n",
       "</tr>\n",
       "<tr>\n",
       "  <th>Model:</th>                   <td>OLS</td>       <th>  Adj. R-squared:    </th> <td>   0.049</td>\n",
       "</tr>\n",
       "<tr>\n",
       "  <th>Method:</th>             <td>Least Squares</td>  <th>  F-statistic:       </th> <td>   19.35</td>\n",
       "</tr>\n",
       "<tr>\n",
       "  <th>Date:</th>             <td>Wed, 27 Apr 2022</td> <th>  Prob (F-statistic):</th> <td>1.38e-05</td>\n",
       "</tr>\n",
       "<tr>\n",
       "  <th>Time:</th>                 <td>20:41:30</td>     <th>  Log-Likelihood:    </th> <td> -1822.2</td>\n",
       "</tr>\n",
       "<tr>\n",
       "  <th>No. Observations:</th>      <td>   420</td>      <th>  AIC:               </th> <td>   3648.</td>\n",
       "</tr>\n",
       "<tr>\n",
       "  <th>Df Residuals:</th>          <td>   418</td>      <th>  BIC:               </th> <td>   3657.</td>\n",
       "</tr>\n",
       "<tr>\n",
       "  <th>Df Model:</th>              <td>     1</td>      <th>                     </th>     <td> </td>   \n",
       "</tr>\n",
       "<tr>\n",
       "  <th>Covariance Type:</th>         <td>HC0</td>       <th>                     </th>     <td> </td>   \n",
       "</tr>\n",
       "</table>\n",
       "<table class=\"simpletable\">\n",
       "<tr>\n",
       "    <td></td>       <th>coef</th>     <th>std err</th>      <th>z</th>      <th>P>|z|</th>  <th>[0.025</th>    <th>0.975]</th>  \n",
       "</tr>\n",
       "<tr>\n",
       "  <th>const</th> <td>  698.9330</td> <td>   10.340</td> <td>   67.597</td> <td> 0.000</td> <td>  678.668</td> <td>  719.198</td>\n",
       "</tr>\n",
       "<tr>\n",
       "  <th>str</th>   <td>   -2.2798</td> <td>    0.518</td> <td>   -4.399</td> <td> 0.000</td> <td>   -3.296</td> <td>   -1.264</td>\n",
       "</tr>\n",
       "</table>\n",
       "<table class=\"simpletable\">\n",
       "<tr>\n",
       "  <th>Omnibus:</th>       <td> 5.390</td> <th>  Durbin-Watson:     </th> <td>   0.129</td>\n",
       "</tr>\n",
       "<tr>\n",
       "  <th>Prob(Omnibus):</th> <td> 0.068</td> <th>  Jarque-Bera (JB):  </th> <td>   3.589</td>\n",
       "</tr>\n",
       "<tr>\n",
       "  <th>Skew:</th>          <td>-0.012</td> <th>  Prob(JB):          </th> <td>   0.166</td>\n",
       "</tr>\n",
       "<tr>\n",
       "  <th>Kurtosis:</th>      <td> 2.548</td> <th>  Cond. No.          </th> <td>    207.</td>\n",
       "</tr>\n",
       "</table><br/><br/>Notes:<br/>[1] Standard Errors are heteroscedasticity robust (HC0)"
      ],
      "text/plain": [
       "<class 'statsmodels.iolib.summary.Summary'>\n",
       "\"\"\"\n",
       "                            OLS Regression Results                            \n",
       "==============================================================================\n",
       "Dep. Variable:                testscr   R-squared:                       0.051\n",
       "Model:                            OLS   Adj. R-squared:                  0.049\n",
       "Method:                 Least Squares   F-statistic:                     19.35\n",
       "Date:                Wed, 27 Apr 2022   Prob (F-statistic):           1.38e-05\n",
       "Time:                        20:41:30   Log-Likelihood:                -1822.2\n",
       "No. Observations:                 420   AIC:                             3648.\n",
       "Df Residuals:                     418   BIC:                             3657.\n",
       "Df Model:                           1                                         \n",
       "Covariance Type:                  HC0                                         \n",
       "==============================================================================\n",
       "                 coef    std err          z      P>|z|      [0.025      0.975]\n",
       "------------------------------------------------------------------------------\n",
       "const        698.9330     10.340     67.597      0.000     678.668     719.198\n",
       "str           -2.2798      0.518     -4.399      0.000      -3.296      -1.264\n",
       "==============================================================================\n",
       "Omnibus:                        5.390   Durbin-Watson:                   0.129\n",
       "Prob(Omnibus):                  0.068   Jarque-Bera (JB):                3.589\n",
       "Skew:                          -0.012   Prob(JB):                        0.166\n",
       "Kurtosis:                       2.548   Cond. No.                         207.\n",
       "==============================================================================\n",
       "\n",
       "Notes:\n",
       "[1] Standard Errors are heteroscedasticity robust (HC0)\n",
       "\"\"\""
      ]
     },
     "execution_count": 10,
     "metadata": {},
     "output_type": "execute_result"
    }
   ],
   "source": [
    "results_hetero.summary()"
   ]
  },
  {
   "cell_type": "markdown",
   "id": "7e5ea5a6",
   "metadata": {},
   "source": [
    "$SE(\\beta_{0})$ = 10.340\n",
    "\n",
    "$SE(\\beta_{1})$ = 0.518"
   ]
  },
  {
   "cell_type": "markdown",
   "id": "059a9bdc",
   "metadata": {},
   "source": [
    "Answer for question 3. won't change."
   ]
  },
  {
   "cell_type": "markdown",
   "id": "b04de270",
   "metadata": {},
   "source": [
    "# Q5:"
   ]
  },
  {
   "cell_type": "markdown",
   "id": "a3a04bac",
   "metadata": {},
   "source": [
    "R-square = 0.051\n",
    "\n",
    "A low R-squared value indicates that the independent variable is not explaining much in the variation of your dependent variable\n",
    "regardless of the variable significance, this is letting you know that the identified independent variable, even though significant, \n",
    "is not accounting for much of the mean of your dependent variable. We may want to add more non-correlated independent variables to the model\n",
    "variables that some how relate to the dependent variable.\n"
   ]
  },
  {
   "cell_type": "markdown",
   "id": "729b6536",
   "metadata": {},
   "source": [
    "# Q6:"
   ]
  },
  {
   "cell_type": "code",
   "execution_count": 11,
   "id": "3e3c4b6b",
   "metadata": {},
   "outputs": [
    {
     "data": {
      "text/plain": [
       "count    420.000000\n",
       "mean      19.640427\n",
       "std        1.891812\n",
       "min       14.000000\n",
       "25%       18.582360\n",
       "50%       19.723208\n",
       "75%       20.871815\n",
       "max       25.799999\n",
       "Name: str, dtype: float64"
      ]
     },
     "execution_count": 11,
     "metadata": {},
     "output_type": "execute_result"
    }
   ],
   "source": [
    "df[\"str\"].describe()"
   ]
  },
  {
   "cell_type": "markdown",
   "id": "2d72ddb7",
   "metadata": {},
   "source": [
    "If we have an additional education district with a student teacher \n",
    "ratio of merely 5, the average test score will go up."
   ]
  },
  {
   "cell_type": "markdown",
   "id": "11a54e81",
   "metadata": {},
   "source": [
    "# Q7:"
   ]
  },
  {
   "cell_type": "code",
   "execution_count": 18,
   "id": "4e05190f",
   "metadata": {
    "scrolled": true
   },
   "outputs": [],
   "source": [
    "X_new = df[[\"str\",\"avginc\",\"expn_stu\"]]\n",
    "X_new = sm.add_constant(X_new)\n",
    "model = sm.OLS(Y, X_new)\n",
    "results_new = model.fit()"
   ]
  },
  {
   "cell_type": "code",
   "execution_count": 13,
   "id": "fe8eb4f3",
   "metadata": {},
   "outputs": [
    {
     "data": {
      "text/html": [
       "<table class=\"simpletable\">\n",
       "<caption>OLS Regression Results</caption>\n",
       "<tr>\n",
       "  <th>Dep. Variable:</th>         <td>testscr</td>     <th>  R-squared:         </th> <td>   0.519</td>\n",
       "</tr>\n",
       "<tr>\n",
       "  <th>Model:</th>                   <td>OLS</td>       <th>  Adj. R-squared:    </th> <td>   0.516</td>\n",
       "</tr>\n",
       "<tr>\n",
       "  <th>Method:</th>             <td>Least Squares</td>  <th>  F-statistic:       </th> <td>   149.9</td>\n",
       "</tr>\n",
       "<tr>\n",
       "  <th>Date:</th>             <td>Wed, 27 Apr 2022</td> <th>  Prob (F-statistic):</th> <td>7.65e-66</td>\n",
       "</tr>\n",
       "<tr>\n",
       "  <th>Time:</th>                 <td>20:41:30</td>     <th>  Log-Likelihood:    </th> <td> -1679.4</td>\n",
       "</tr>\n",
       "<tr>\n",
       "  <th>No. Observations:</th>      <td>   420</td>      <th>  AIC:               </th> <td>   3367.</td>\n",
       "</tr>\n",
       "<tr>\n",
       "  <th>Df Residuals:</th>          <td>   416</td>      <th>  BIC:               </th> <td>   3383.</td>\n",
       "</tr>\n",
       "<tr>\n",
       "  <th>Df Model:</th>              <td>     3</td>      <th>                     </th>     <td> </td>   \n",
       "</tr>\n",
       "<tr>\n",
       "  <th>Covariance Type:</th>      <td>nonrobust</td>    <th>                     </th>     <td> </td>   \n",
       "</tr>\n",
       "</table>\n",
       "<table class=\"simpletable\">\n",
       "<tr>\n",
       "      <td></td>        <th>coef</th>     <th>std err</th>      <th>t</th>      <th>P>|t|</th>  <th>[0.025</th>    <th>0.975]</th>  \n",
       "</tr>\n",
       "<tr>\n",
       "  <th>const</th>    <td>  669.7451</td> <td>   13.974</td> <td>   47.928</td> <td> 0.000</td> <td>  642.277</td> <td>  697.213</td>\n",
       "</tr>\n",
       "<tr>\n",
       "  <th>str</th>      <td>   -1.3258</td> <td>    0.437</td> <td>   -3.035</td> <td> 0.003</td> <td>   -2.184</td> <td>   -0.467</td>\n",
       "</tr>\n",
       "<tr>\n",
       "  <th>avginc</th>   <td>    1.8944</td> <td>    0.095</td> <td>   20.039</td> <td> 0.000</td> <td>    1.709</td> <td>    2.080</td>\n",
       "</tr>\n",
       "<tr>\n",
       "  <th>expn_stu</th> <td>   -0.0035</td> <td>    0.001</td> <td>   -2.616</td> <td> 0.009</td> <td>   -0.006</td> <td>   -0.001</td>\n",
       "</tr>\n",
       "</table>\n",
       "<table class=\"simpletable\">\n",
       "<tr>\n",
       "  <th>Omnibus:</th>       <td> 2.414</td> <th>  Durbin-Watson:     </th> <td>   0.693</td>\n",
       "</tr>\n",
       "<tr>\n",
       "  <th>Prob(Omnibus):</th> <td> 0.299</td> <th>  Jarque-Bera (JB):  </th> <td>   2.489</td>\n",
       "</tr>\n",
       "<tr>\n",
       "  <th>Skew:</th>          <td>-0.165</td> <th>  Prob(JB):          </th> <td>   0.288</td>\n",
       "</tr>\n",
       "<tr>\n",
       "  <th>Kurtosis:</th>      <td> 2.819</td> <th>  Cond. No.          </th> <td>1.16e+05</td>\n",
       "</tr>\n",
       "</table><br/><br/>Notes:<br/>[1] Standard Errors assume that the covariance matrix of the errors is correctly specified.<br/>[2] The condition number is large, 1.16e+05. This might indicate that there are<br/>strong multicollinearity or other numerical problems."
      ],
      "text/plain": [
       "<class 'statsmodels.iolib.summary.Summary'>\n",
       "\"\"\"\n",
       "                            OLS Regression Results                            \n",
       "==============================================================================\n",
       "Dep. Variable:                testscr   R-squared:                       0.519\n",
       "Model:                            OLS   Adj. R-squared:                  0.516\n",
       "Method:                 Least Squares   F-statistic:                     149.9\n",
       "Date:                Wed, 27 Apr 2022   Prob (F-statistic):           7.65e-66\n",
       "Time:                        20:41:30   Log-Likelihood:                -1679.4\n",
       "No. Observations:                 420   AIC:                             3367.\n",
       "Df Residuals:                     416   BIC:                             3383.\n",
       "Df Model:                           3                                         \n",
       "Covariance Type:            nonrobust                                         \n",
       "==============================================================================\n",
       "                 coef    std err          t      P>|t|      [0.025      0.975]\n",
       "------------------------------------------------------------------------------\n",
       "const        669.7451     13.974     47.928      0.000     642.277     697.213\n",
       "str           -1.3258      0.437     -3.035      0.003      -2.184      -0.467\n",
       "avginc         1.8944      0.095     20.039      0.000       1.709       2.080\n",
       "expn_stu      -0.0035      0.001     -2.616      0.009      -0.006      -0.001\n",
       "==============================================================================\n",
       "Omnibus:                        2.414   Durbin-Watson:                   0.693\n",
       "Prob(Omnibus):                  0.299   Jarque-Bera (JB):                2.489\n",
       "Skew:                          -0.165   Prob(JB):                        0.288\n",
       "Kurtosis:                       2.819   Cond. No.                     1.16e+05\n",
       "==============================================================================\n",
       "\n",
       "Notes:\n",
       "[1] Standard Errors assume that the covariance matrix of the errors is correctly specified.\n",
       "[2] The condition number is large, 1.16e+05. This might indicate that there are\n",
       "strong multicollinearity or other numerical problems.\n",
       "\"\"\""
      ]
     },
     "execution_count": 13,
     "metadata": {},
     "output_type": "execute_result"
    }
   ],
   "source": [
    "results_new.summary()"
   ]
  },
  {
   "cell_type": "markdown",
   "id": "e7fef033",
   "metadata": {},
   "source": [
    "- The coef of **str** increases from -2.2798 to -1.3258.\n",
    "- R-square increases from 0.051 to 0.519.\n",
    "- Adding more valuable x variables makes the prediction better(considering Adj. R-squared also improves lots)."
   ]
  },
  {
   "cell_type": "markdown",
   "id": "37328f3b",
   "metadata": {},
   "source": [
    "# Q8:"
   ]
  },
  {
   "cell_type": "markdown",
   "id": "181ead03",
   "metadata": {},
   "source": [
    "**Tests under heteroskedasticity assumptions that avginc = expn_stu = 0**"
   ]
  },
  {
   "cell_type": "code",
   "execution_count": 14,
   "id": "bb8a7eeb",
   "metadata": {},
   "outputs": [
    {
     "name": "stdout",
     "output_type": "stream",
     "text": [
      "<F test: F=array([[202.60802797]]), p=3.6666287886540695e-62, df_denom=416, df_num=2>\n"
     ]
    }
   ],
   "source": [
    "B = np.array(([0,0,1,0],[0,0,0,1]))\n",
    "\n",
    "print(results_new.f_test(B))"
   ]
  },
  {
   "cell_type": "markdown",
   "id": "ccaed113",
   "metadata": {},
   "source": [
    "**Tests under heteroskedasticity assumptions that each coefficient is jointly statistically significantly different from zero.**"
   ]
  },
  {
   "cell_type": "code",
   "execution_count": 15,
   "id": "de5caebe",
   "metadata": {
    "scrolled": true
   },
   "outputs": [
    {
     "name": "stdout",
     "output_type": "stream",
     "text": [
      "<F test: F=array([[149.85594469]]), p=7.651663583855308e-66, df_denom=416, df_num=3>\n"
     ]
    }
   ],
   "source": [
    "A = np.identity(len(results_new.params))\n",
    "A = A[1:,:]\n",
    "\n",
    "print(results_new.f_test(A))"
   ]
  },
  {
   "cell_type": "markdown",
   "id": "c10d87fd",
   "metadata": {},
   "source": [
    "**As a result, we can reject the null hypothesis that avginc=0 and expn_stu=0 since the p value is less than given significance level.**"
   ]
  }
 ],
 "metadata": {
  "kernelspec": {
   "display_name": "Python 3 (ipykernel)",
   "language": "python",
   "name": "python3"
  },
  "language_info": {
   "codemirror_mode": {
    "name": "ipython",
    "version": 3
   },
   "file_extension": ".py",
   "mimetype": "text/x-python",
   "name": "python",
   "nbconvert_exporter": "python",
   "pygments_lexer": "ipython3",
   "version": "3.9.7"
  }
 },
 "nbformat": 4,
 "nbformat_minor": 5
}
